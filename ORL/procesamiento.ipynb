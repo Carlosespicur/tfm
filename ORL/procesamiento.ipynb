{
 "cells": [
  {
   "cell_type": "code",
   "execution_count": 1,
   "metadata": {},
   "outputs": [],
   "source": [
    "import numpy as np\n",
    "import pandas as pd\n",
    "import imageio\n",
    "import os\n",
    "from matplotlib import pyplot as plt"
   ]
  },
  {
   "cell_type": "markdown",
   "metadata": {},
   "source": [
    "# Data Processing"
   ]
  },
  {
   "cell_type": "code",
   "execution_count": 26,
   "metadata": {},
   "outputs": [
    {
     "name": "stderr",
     "output_type": "stream",
     "text": [
      "C:\\Users\\Carlos\\AppData\\Local\\Temp\\ipykernel_30316\\832901530.py:9: DeprecationWarning: Starting with ImageIO v3 the behavior of this function will switch to that of iio.v3.imread. To keep the current behavior (and make this warning disappear) use `import imageio.v2 as imageio` or call `imageio.v2.imread` directly.\n",
      "  image = imageio.imread(path + \"/\" + file)\n"
     ]
    }
   ],
   "source": [
    "ids = []\n",
    "im_shape = 112 * 92\n",
    "images = np.zeros((1, im_shape))\n",
    "folders = next(os.walk(\"./\"))[1]\n",
    "for folder in folders:\n",
    "    path = \"./\" + folder\n",
    "    for file in next(os.walk(path))[2]:\n",
    "        ids.append([folder, file.replace(\".pgm\", \"\")])\n",
    "        image = imageio.imread(path + \"/\" + file)\n",
    "        image = np.array(image, dtype=float)\n",
    "        image = image.reshape(1, im_shape)\n",
    "        images = np.append(images, image, axis = 0)\n",
    "\n",
    "images = np.delete(images, 0, axis=0)\n",
    "images = images/255.0\n",
    "ids = np.array(ids)\n",
    "df = pd.DataFrame(images)\n",
    "df[\"subject\"] = ids[:,0]\n",
    "df[\"n_image\"] = ids[:,1]\n",
    "df[\"subject\"] = df[\"subject\"].apply(lambda x: int(x[1:]))"
   ]
  },
  {
   "cell_type": "code",
   "execution_count": 27,
   "metadata": {},
   "outputs": [
    {
     "data": {
      "text/html": [
       "<div>\n",
       "<style scoped>\n",
       "    .dataframe tbody tr th:only-of-type {\n",
       "        vertical-align: middle;\n",
       "    }\n",
       "\n",
       "    .dataframe tbody tr th {\n",
       "        vertical-align: top;\n",
       "    }\n",
       "\n",
       "    .dataframe thead th {\n",
       "        text-align: right;\n",
       "    }\n",
       "</style>\n",
       "<table border=\"1\" class=\"dataframe\">\n",
       "  <thead>\n",
       "    <tr style=\"text-align: right;\">\n",
       "      <th></th>\n",
       "      <th>0</th>\n",
       "      <th>1</th>\n",
       "      <th>2</th>\n",
       "      <th>3</th>\n",
       "      <th>4</th>\n",
       "      <th>5</th>\n",
       "      <th>6</th>\n",
       "      <th>7</th>\n",
       "      <th>8</th>\n",
       "      <th>9</th>\n",
       "      <th>...</th>\n",
       "      <th>10296</th>\n",
       "      <th>10297</th>\n",
       "      <th>10298</th>\n",
       "      <th>10299</th>\n",
       "      <th>10300</th>\n",
       "      <th>10301</th>\n",
       "      <th>10302</th>\n",
       "      <th>10303</th>\n",
       "      <th>subject</th>\n",
       "      <th>n_image</th>\n",
       "    </tr>\n",
       "  </thead>\n",
       "  <tbody>\n",
       "    <tr>\n",
       "      <th>0</th>\n",
       "      <td>0.188235</td>\n",
       "      <td>0.192157</td>\n",
       "      <td>0.176471</td>\n",
       "      <td>0.184314</td>\n",
       "      <td>0.192157</td>\n",
       "      <td>0.223529</td>\n",
       "      <td>0.152941</td>\n",
       "      <td>0.164706</td>\n",
       "      <td>0.207843</td>\n",
       "      <td>0.192157</td>\n",
       "      <td>...</td>\n",
       "      <td>0.156863</td>\n",
       "      <td>0.160784</td>\n",
       "      <td>0.192157</td>\n",
       "      <td>0.164706</td>\n",
       "      <td>0.172549</td>\n",
       "      <td>0.184314</td>\n",
       "      <td>0.180392</td>\n",
       "      <td>0.180392</td>\n",
       "      <td>1</td>\n",
       "      <td>1</td>\n",
       "    </tr>\n",
       "    <tr>\n",
       "      <th>1</th>\n",
       "      <td>0.133333</td>\n",
       "      <td>0.133333</td>\n",
       "      <td>0.129412</td>\n",
       "      <td>0.125490</td>\n",
       "      <td>0.149020</td>\n",
       "      <td>0.156863</td>\n",
       "      <td>0.152941</td>\n",
       "      <td>0.192157</td>\n",
       "      <td>0.211765</td>\n",
       "      <td>0.223529</td>\n",
       "      <td>...</td>\n",
       "      <td>0.149020</td>\n",
       "      <td>0.117647</td>\n",
       "      <td>0.145098</td>\n",
       "      <td>0.117647</td>\n",
       "      <td>0.141176</td>\n",
       "      <td>0.145098</td>\n",
       "      <td>0.156863</td>\n",
       "      <td>0.129412</td>\n",
       "      <td>1</td>\n",
       "      <td>10</td>\n",
       "    </tr>\n",
       "    <tr>\n",
       "      <th>2</th>\n",
       "      <td>0.235294</td>\n",
       "      <td>0.235294</td>\n",
       "      <td>0.243137</td>\n",
       "      <td>0.207843</td>\n",
       "      <td>0.188235</td>\n",
       "      <td>0.200000</td>\n",
       "      <td>0.239216</td>\n",
       "      <td>0.235294</td>\n",
       "      <td>0.278431</td>\n",
       "      <td>0.266667</td>\n",
       "      <td>...</td>\n",
       "      <td>0.109804</td>\n",
       "      <td>0.129412</td>\n",
       "      <td>0.121569</td>\n",
       "      <td>0.121569</td>\n",
       "      <td>0.145098</td>\n",
       "      <td>0.125490</td>\n",
       "      <td>0.133333</td>\n",
       "      <td>0.133333</td>\n",
       "      <td>1</td>\n",
       "      <td>2</td>\n",
       "    </tr>\n",
       "    <tr>\n",
       "      <th>3</th>\n",
       "      <td>0.152941</td>\n",
       "      <td>0.172549</td>\n",
       "      <td>0.207843</td>\n",
       "      <td>0.145098</td>\n",
       "      <td>0.239216</td>\n",
       "      <td>0.188235</td>\n",
       "      <td>0.239216</td>\n",
       "      <td>0.176471</td>\n",
       "      <td>0.137255</td>\n",
       "      <td>0.156863</td>\n",
       "      <td>...</td>\n",
       "      <td>0.141176</td>\n",
       "      <td>0.125490</td>\n",
       "      <td>0.109804</td>\n",
       "      <td>0.125490</td>\n",
       "      <td>0.121569</td>\n",
       "      <td>0.113725</td>\n",
       "      <td>0.101961</td>\n",
       "      <td>0.113725</td>\n",
       "      <td>1</td>\n",
       "      <td>3</td>\n",
       "    </tr>\n",
       "    <tr>\n",
       "      <th>4</th>\n",
       "      <td>0.247059</td>\n",
       "      <td>0.207843</td>\n",
       "      <td>0.137255</td>\n",
       "      <td>0.141176</td>\n",
       "      <td>0.129412</td>\n",
       "      <td>0.133333</td>\n",
       "      <td>0.121569</td>\n",
       "      <td>0.137255</td>\n",
       "      <td>0.152941</td>\n",
       "      <td>0.168627</td>\n",
       "      <td>...</td>\n",
       "      <td>0.650980</td>\n",
       "      <td>0.631373</td>\n",
       "      <td>0.619608</td>\n",
       "      <td>0.662745</td>\n",
       "      <td>0.537255</td>\n",
       "      <td>0.160784</td>\n",
       "      <td>0.039216</td>\n",
       "      <td>0.094118</td>\n",
       "      <td>1</td>\n",
       "      <td>4</td>\n",
       "    </tr>\n",
       "  </tbody>\n",
       "</table>\n",
       "<p>5 rows × 10306 columns</p>\n",
       "</div>"
      ],
      "text/plain": [
       "          0         1         2         3         4         5         6  \\\n",
       "0  0.188235  0.192157  0.176471  0.184314  0.192157  0.223529  0.152941   \n",
       "1  0.133333  0.133333  0.129412  0.125490  0.149020  0.156863  0.152941   \n",
       "2  0.235294  0.235294  0.243137  0.207843  0.188235  0.200000  0.239216   \n",
       "3  0.152941  0.172549  0.207843  0.145098  0.239216  0.188235  0.239216   \n",
       "4  0.247059  0.207843  0.137255  0.141176  0.129412  0.133333  0.121569   \n",
       "\n",
       "          7         8         9  ...     10296     10297     10298     10299  \\\n",
       "0  0.164706  0.207843  0.192157  ...  0.156863  0.160784  0.192157  0.164706   \n",
       "1  0.192157  0.211765  0.223529  ...  0.149020  0.117647  0.145098  0.117647   \n",
       "2  0.235294  0.278431  0.266667  ...  0.109804  0.129412  0.121569  0.121569   \n",
       "3  0.176471  0.137255  0.156863  ...  0.141176  0.125490  0.109804  0.125490   \n",
       "4  0.137255  0.152941  0.168627  ...  0.650980  0.631373  0.619608  0.662745   \n",
       "\n",
       "      10300     10301     10302     10303  subject  n_image  \n",
       "0  0.172549  0.184314  0.180392  0.180392        1        1  \n",
       "1  0.141176  0.145098  0.156863  0.129412        1       10  \n",
       "2  0.145098  0.125490  0.133333  0.133333        1        2  \n",
       "3  0.121569  0.113725  0.101961  0.113725        1        3  \n",
       "4  0.537255  0.160784  0.039216  0.094118        1        4  \n",
       "\n",
       "[5 rows x 10306 columns]"
      ]
     },
     "execution_count": 27,
     "metadata": {},
     "output_type": "execute_result"
    }
   ],
   "source": [
    "df.head()"
   ]
  },
  {
   "cell_type": "code",
   "execution_count": 151,
   "metadata": {},
   "outputs": [],
   "source": [
    "a = df.iloc[:,:-2].values"
   ]
  },
  {
   "cell_type": "code",
   "execution_count": 159,
   "metadata": {},
   "outputs": [
    {
     "data": {
      "text/plain": [
       "<matplotlib.image.AxesImage at 0x18718683340>"
      ]
     },
     "execution_count": 159,
     "metadata": {},
     "output_type": "execute_result"
    },
    {
     "data": {
      "image/png": "[encoded data removed]",
      "text/plain": [
       "<Figure size 640x480 with 1 Axes>"
      ]
     },
     "metadata": {},
     "output_type": "display_data"
    }
   ],
   "source": [
    "plt.imshow(a[5].reshape(112,92))"
   ]
  },
  {
   "cell_type": "code",
   "execution_count": 28,
   "metadata": {},
   "outputs": [],
   "source": [
    "df.to_csv('orl.csv', encoding='utf-8') \n"
   ]
  }
 ],
 "metadata": {
  "kernelspec": {
   "display_name": "pytorch",
   "language": "python",
   "name": "python3"
  },
  "language_info": {
   "codemirror_mode": {
    "name": "ipython",
    "version": 3
   },
   "file_extension": ".py",
   "mimetype": "text/x-python",
   "name": "python",
   "nbconvert_exporter": "python",
   "pygments_lexer": "ipython3",
   "version": "3.8.18"
  }
 },
 "nbformat": 4,
 "nbformat_minor": 2
}
