{
 "cells": [
  {
   "cell_type": "code",
   "execution_count": 1,
   "metadata": {},
   "outputs": [
    {
     "name": "stderr",
     "output_type": "stream",
     "text": [
      "c:\\Users\\Carlos\\anaconda3\\envs\\pytorch\\lib\\site-packages\\tqdm\\auto.py:21: TqdmWarning: IProgress not found. Please update jupyter and ipywidgets. See https://ipywidgets.readthedocs.io/en/stable/user_install.html\n",
      "  from .autonotebook import tqdm as notebook_tqdm\n",
      "c:\\Users\\Carlos\\anaconda3\\envs\\pytorch\\lib\\site-packages\\torch_geometric\\typing.py:72: UserWarning: An issue occurred while importing 'torch-scatter'. Disabling its usage. Stacktrace: Could not find module 'C:\\Users\\Carlos\\anaconda3\\envs\\pytorch\\Lib\\site-packages\\torch_scatter\\_scatter_cuda.pyd' (or one of its dependencies). Try using the full path with constructor syntax.\n",
      "  warnings.warn(f\"An issue occurred while importing 'torch-scatter'. \"\n"
     ]
    }
   ],
   "source": [
    "import torch\n",
    "import torch.nn as nn\n",
    "import pandas as pd\n",
    "from sklearn.model_selection import train_test_split\n",
    "import numpy as np\n",
    "from torch.utils.data import DataLoader\n",
    "from torch_geometric.utils import dense_to_sparse\n",
    "from torch_geometric.data import Data\n",
    "from torch_geometric.nn import GCNConv\n",
    "import torch.nn.functional as F\n",
    "from tqdm import tqdm\n",
    "from torch.optim import Adam\n",
    "from matplotlib import pyplot as plt\n",
    "import json\n",
    "import os"
   ]
  },
  {
   "cell_type": "code",
   "execution_count": 3,
   "metadata": {},
   "outputs": [],
   "source": [
    "# PyTorch implementations of Polynomial Kernels\n",
    "\n",
    "def polynomial_kernel(X, Y, degree=2, gamma=1.0, coef0=1.0):\n",
    "    \"\"\"\n",
    "    Polynomial kernel function.\n",
    "    :param X: torch.Tensor of shape (n_samples_1, n_features)\n",
    "    :param Y: torch.Tensor of shape (n_samples_2, n_features)\n",
    "    :param degree: int, default=2\n",
    "    :param gamma: float, default=1.0\n",
    "    :param coef0: float, default=1.0\n",
    "    :return: torch.Tensor of shape (n_samples_1, n_samples_2)\n",
    "    \"\"\"\n",
    "    K = (gamma * torch.mm(X, Y.t()) + coef0) ** degree\n",
    "    return K\n",
    "\n",
    "def rbf_kernel(X, Y, gamma=None):\n",
    "\n",
    "    \"\"\"\n",
    "    Rbf kernel function.\n",
    "    :param X: torch.Tensor of shape (n_samples_1, n_features)\n",
    "    :param Y: torch.Tensor of shape (n_samples_2, n_features)\n",
    "    :param gamma: float or None, default=None\n",
    "    :return: torch.Tensor of shape (n_samples_1, n_samples_2)\n",
    "    \"\"\"\n",
    "\n",
    "    if gamma == None:\n",
    "        gamma = 1.0/X.size(1) # gamma = 1/n_features\n",
    "    \n",
    "    # K(x, y) = exp(-gamma ||x-y||^2)\n",
    "    d_XY = torch.cdist(X, Y, p=2) # pairwise distances between X and Y rows. Shape = (n_samples_1, n_samples_2)\n",
    "    K = torch.exp(-gamma * d_XY ** 2)\n",
    "\n",
    "    return K\n",
    "\n",
    "def laplacian_kernel(X, Y, gamma=None):\n",
    "    \"\"\"\n",
    "    Laplacian kernel function.\n",
    "    :param X: torch.Tensor of shape (n_samples_1, n_features)\n",
    "    :param Y: torch.Tensor of shape (n_samples_2, n_features)\n",
    "    :param gamma: float or None, default=None\n",
    "    :return: torch.Tensor of shape (n_samples_1, n_samples_2)\n",
    "    \"\"\"\n",
    "\n",
    "    if gamma == None:\n",
    "        gamma = 1.0/X.size(1) # gamma = 1/n_features\n",
    "    \n",
    "    # K(x, y) = exp(-gamma ||x-y||)\n",
    "    d_XY = torch.cdist(X, Y, p=1) # pairwise distances between X and Y rows. Shape = (n_samples_1, n_samples_2)\n",
    "    K = torch.exp(-gamma * d_XY)\n",
    "\n",
    "    return K\n",
    "\n",
    "def sigmoid_kernel(X, Y, gamma=1.0, coef0=1.0):\n",
    "    \"\"\"\n",
    "    Sigmoid kernel function.\n",
    "    :param X: torch.Tensor of shape (n_samples_1, n_features)\n",
    "    :param Y: torch.Tensor of shape (n_samples_2, n_features)\n",
    "    :param gamma: float, default=1.0\n",
    "    :param coef0: float, default=1.0\n",
    "    :return: torch.Tensor of shape (n_samples_1, n_samples_2)\n",
    "    \"\"\"\n",
    "    K = torch.tanh(gamma * torch.mm(X, Y.t()) + coef0)\n",
    "    return K\n"
   ]
  },
  {
   "cell_type": "code",
   "execution_count": 4,
   "metadata": {},
   "outputs": [],
   "source": [
    "def binary_distance(X, Y):\n",
    "    \"\"\"Compute distance matrix between  rows of X, Y.\n",
    "\n",
    "    d(x_i, y_j) = 1 if x_i == y_j, 0 in other case.\n",
    "\n",
    "    for all rows x_i in X, y_j in Y\n",
    "\n",
    "    \"\"\"\n",
    "    return (X.unsqueeze(1) == Y.unsqueeze(0)).all(-1).float()\n",
    "\n",
    "\n",
    "def kernel(X, *args, **kwargs):\n",
    "    \"\"\"\n",
    "    Compute similarity matrix of an array X using a variety of kernels\n",
    "    Parameters:\n",
    "        X = input data (torch.Tensor or numpy array)\n",
    "    \"\"\"\n",
    "    # kernel parameters\n",
    "\n",
    "    degree = kwargs.get(\"degree\", None)\n",
    "    gamma = kwargs.get(\"gamma\", None)\n",
    "    coef = kwargs.get(\"coef\", None)\n",
    "    kernel_type = kwargs.get(\"kernel_type\", None)\n",
    "\n",
    "    if kernel_type == \"polynomial\":\n",
    "\n",
    "\n",
    "        # K(x,y) = (gamma * <x,y> + coef)^degree, for vectors x,y\n",
    "\n",
    "        if (gamma != None) & (coef != None) & (degree != None):\n",
    "            return polynomial_kernel(X = X, Y = X, degree = degree, gamma = gamma, coef0 = coef)\n",
    "        else:\n",
    "            return None\n",
    "\n",
    "    elif kernel_type == \"sigmoid\":\n",
    " \n",
    "        # K(x,y) = tanh(gamma * <x,y> + coef), for vectors x,y\n",
    "\n",
    "        if (gamma != None) & (coef != None):\n",
    "            return sigmoid_kernel(X = X, Y = X, gamma = gamma, coef0 = coef)\n",
    "        else:\n",
    "            return None\n",
    "\n",
    "    elif kernel_type == \"rbf\":\n",
    "\n",
    "        # K(x, y) = exp(-gamma ||x-y||^2)\n",
    "\n",
    "        if (gamma != None):\n",
    "            return rbf_kernel(X = X, Y = X, gamma = gamma)\n",
    "        else:\n",
    "            return None\n",
    "\n",
    "    elif kernel_type == \"laplacian\":\n",
    "\n",
    "        # K(x, y) = exp(-gamma ||x-y||_1)\n",
    "\n",
    "        if (gamma != None):\n",
    "            return laplacian_kernel(X = X, Y = X, gamma = gamma)\n",
    "        else:\n",
    "            return None\n",
    "\n",
    "    else:\n",
    "        return None\n"
   ]
  },
  {
   "cell_type": "code",
   "execution_count": 10,
   "metadata": {},
   "outputs": [],
   "source": [
    "class SVBLinear(nn.Module):\n",
    "    def __init__(self, in_features, out_features, bias=True):\n",
    "        super(SVBLinear, self).__init__()\n",
    "        self.linear = nn.Linear(in_features, out_features, bias=bias)\n",
    "        nn.init.orthogonal_(self.linear.weight)\n",
    "\n",
    "    def forward(self, input):\n",
    "        return self.linear(input)\n",
    "    \n",
    "    def singular_value_bounding(self):\n",
    "        with torch.no_grad():\n",
    "            # Descomposición SVD manual\n",
    "            weight = self.linear.weight.data\n",
    "            u, s, vh = torch.linalg.svd(weight, full_matrices=False)\n",
    "            # Ajuste de valores singulares\n",
    "            s = torch.clamp(s, min=0.9, max=1.1)\n",
    "            # Reconstrucción de la matriz de pesos\n",
    "            self.linear.weight.copy_(torch.mm(u, torch.mm(torch.diag(s), vh)))\n",
    "\n",
    "class OrthogonalNN(nn.Module):\n",
    "    def __init__(self, input_dim, output_dim):\n",
    "        super(OrthogonalNN, self).__init__()\n",
    "        self.fc1 = SVBLinear(input_dim, 128)\n",
    "        self.fc2 = SVBLinear(128, output_dim)\n",
    "\n",
    "    def forward(self, x):\n",
    "        x = torch.relu(self.fc1(x))\n",
    "        x = self.fc2(x)\n",
    "        return x\n",
    "    \n",
    "    def apply_svb(self):\n",
    "        self.fc1.singular_value_bounding()\n",
    "        self.fc2.singular_value_bounding()\n",
    "\n",
    "class Encoder_SLMVP(nn.Module):\n",
    "    def __init__(self, encoder, kernel_parameters_X, optimizer, label_indep = False, kernel_parameters_Y = None):\n",
    "        super().__init__()\n",
    "        self.encoder = encoder\n",
    "        self.kernel_parameters_X = kernel_parameters_X\n",
    "        self.optimizer = optimizer\n",
    "        self.label_indep = label_indep\n",
    "        self.kernel_parameters_Y = kernel_parameters_Y\n",
    "        self.criterion = nn.MSELoss()\n",
    "    def encode(self, x):\n",
    "        return self.encoder(x)\n",
    "    \n",
    "    def train_model(self, data_loader):\n",
    "        self.train()\n",
    "        \n",
    "        epoch_losses = []\n",
    "\n",
    "        for X, y in tqdm(data_loader):\n",
    "            self.optimizer.zero_grad()\n",
    "            Z = self.encode(X)\n",
    "\n",
    "            # Calculation of similarity matrices\n",
    "            K_X = kernel(X, **self.kernel_parameters_X)\n",
    "\n",
    "            if self.label_indep: # data with different labels has not relationship (e.g: multiclass classification)\n",
    "                K_Y = binary_distance(y.unsqueeze(1), y.unsqueeze(1))\n",
    "            else:\n",
    "                if self.kernel_parameters_Y == None:\n",
    "                    self.kernel_parameters_Y = self.kernel_parameters_X\n",
    "                K_Y = kernel(y, **self.kernel_parameters_Y)\n",
    "            K_XY = K_X * K_Y\n",
    "            D = torch.diag(torch.sum(K_XY, dim = 1))\n",
    "            loss = torch.norm(torch.matmul(torch.matmul(torch.t(Z), D), Z) - torch.eye(Z.size(1)))\n",
    "            epoch_losses.append(loss)\n",
    "\n",
    "            loss.backward()\n",
    "            self.optimizer.step()\n",
    "        \n",
    "        avg_loss = torch.mean(torch.Tensor(epoch_losses))\n",
    "        return avg_loss.item()\n",
    "    \n",
    "    def test_model(self, data_loader):\n",
    "        self.eval()\n",
    "        epoch_losses = []\n",
    "\n",
    "        with torch.no_grad():\n",
    "            for X, y in data_loader:\n",
    "                Z = self.encode(X)\n",
    "\n",
    "                # Calculation of similarity matrices\n",
    "                K_X = kernel(X, **self.kernel_parameters_X)\n",
    "                if self.label_indep: # data with different labels has not relationship (e.g: multiclass classification)\n",
    "                    K_Y = binary_distance(y.unsqueeze(1), y.unsqueeze(1))\n",
    "                else:\n",
    "                    if self.kernel_parameters_Y == None:\n",
    "                        self.kernel_parameters_Y = self.kernel_parameters_X\n",
    "                    K_Y = kernel(y, **self.kernel_parameters_Y)\n",
    "                K_XY = K_X * K_Y\n",
    "                D = torch.diag(torch.sum(K_XY, dim = 1))\n",
    "                loss = torch.norm(torch.matmul(torch.matmul(torch.t(Z), D), Z) - torch.eye(Z.size(1)))\n",
    "                epoch_losses.append(loss)\n",
    "            \n",
    "        avg_loss = torch.mean(torch.Tensor(epoch_losses))\n",
    "        return avg_loss.item()"
   ]
  },
  {
   "cell_type": "code",
   "execution_count": 11,
   "metadata": {},
   "outputs": [],
   "source": [
    "lr = 0.001 # learning rate\n",
    "batch_size = 64\n",
    "epochs = 1000\n",
    "latent_size = 64 # latent space dimension\n",
    "\n",
    "kernel_param_X = {\n",
    "\n",
    "    \"kernel_type\": \"rbf\",\n",
    "    \"degree\": 3,\n",
    "    \"gamma\": 1e-2,\n",
    "    \"coef\": 0.5e2\n",
    "\n",
    "}\n",
    "\n",
    "# kernel function parameters for Y_train / Y_test. If is equal to None, we use the same parameters.\n",
    "\n",
    "kernel_param_Y = None\n",
    "\n",
    "\"\"\"\n",
    "kernel_param_Y = {\n",
    "\n",
    "    \"kernel_type\": \"polynomial\",\n",
    "    \"degree\": 3,\n",
    "    \"gamma\": 1.,\n",
    "    \"coef\": 1.\n",
    "\n",
    "}\n",
    "\"\"\"\n",
    "\n",
    "label_indep = True # True for categoric labels, False for numerical labels"
   ]
  },
  {
   "cell_type": "code",
   "execution_count": 12,
   "metadata": {},
   "outputs": [],
   "source": [
    "\n",
    "\n",
    "# train_data = pd.read_csv(\"/content/tfm_esteban/fashion_MNIST/fashion-mnist_train.csv\")\n",
    "# test_data = pd.read_csv(\"/content/tfm_esteban/fashion_MNIST/fashion-mnist_test.csv\")\n",
    "\n",
    "train_data = pd.read_csv(\"../fashion_MNIST/fashion-mnist_train.csv\")\n",
    "test_data = pd.read_csv(\"../fashion_MNIST/fashion-mnist_test.csv\")\n",
    "data = pd.concat([train_data, test_data], ignore_index = True)\n",
    "# print(train_data.shape, test_data.shape, data.shape)\n",
    "# data.head()\n",
    "train_data, test_data = train_test_split(data, test_size=0.2, shuffle=True, stratify=data[\"label\"], random_state=20)\n",
    "train_data, val_data = train_test_split(train_data, test_size=0.1, shuffle=True, stratify=train_data[\"label\"], random_state=20)\n",
    "\n",
    "# print(train_data[\"label\"].value_counts(normalize=True))\n",
    "# print(val_data[\"label\"].value_counts(normalize=True))\n",
    "# print(test_data[\"label\"].value_counts(normalize=True))\n",
    "\n",
    "X_train = np.array(train_data.drop(\"label\", axis = 1, inplace=False))/255\n",
    "X_train = torch.tensor(X_train, dtype = torch.float)\n",
    "y_train = train_data[\"label\"].values\n",
    "y_train = torch.tensor(y_train, dtype = torch.float)\n",
    "X_val = np.array(val_data.drop(\"label\", axis = 1, inplace=False))/255\n",
    "X_val = torch.tensor(X_val, dtype = torch.float)\n",
    "y_val = val_data[\"label\"].values\n",
    "y_val = torch.tensor(y_val, dtype = torch.float)\n",
    "X_test = np.array(test_data.drop(\"label\", axis = 1, inplace=False))/255\n",
    "X_test = torch.tensor(X_test, dtype = torch.float)\n",
    "y_test = test_data[\"label\"].values\n",
    "y_test = torch.tensor(y_test, dtype = torch.float)\n",
    "\n",
    "train_loader = DataLoader(list(zip(X_train, y_train)), shuffle = True, batch_size=batch_size)\n",
    "val_loader = DataLoader(list(zip(X_val, y_val)), shuffle = True, batch_size=batch_size)\n",
    "test_loader = DataLoader(list(zip(X_test, y_test)), shuffle = False, batch_size=batch_size)\n",
    "\n",
    "input_size = X_train.size(1)"
   ]
  },
  {
   "cell_type": "code",
   "execution_count": 20,
   "metadata": {},
   "outputs": [],
   "source": [
    "encoder = OrthogonalNN(input_size, latent_size)\n",
    "optimizer = Adam(list(encoder.parameters()), lr = lr)\n",
    "\n",
    "model = Encoder_SLMVP(encoder, kernel_param_X, optimizer, label_indep, kernel_param_Y)"
   ]
  },
  {
   "cell_type": "code",
   "execution_count": null,
   "metadata": {},
   "outputs": [],
   "source": [
    "# # Datos de prueba\n",
    "# input_dim = 10\n",
    "# output_dim = 5\n",
    "# model = OrthogonalNN(input_dim, output_dim)\n",
    "\n",
    "# x = torch.randn(20, input_dim)\n",
    "# target = torch.randn(20, output_dim)\n",
    "\n",
    "# # Definición de la pérdida y el optimizador\n",
    "# criterion = nn.MSELoss()\n",
    "# optimizer = optim.Adam(model.parameters(), lr=0.001)\n",
    "\n",
    "# # Entrenamiento\n",
    "# num_epochs = 100\n",
    "# for epoch in range(num_epochs):\n",
    "#     optimizer.zero_grad()\n",
    "#     outputs = model(x)\n",
    "#     loss = criterion(outputs, target)\n",
    "#     loss.backward()\n",
    "#     optimizer.step()\n",
    "    \n",
    "#     # Aplicación periódica del método SVB\n",
    "#     if epoch % 10 == 0:\n",
    "#         model.apply_svb()\n",
    "\n",
    "#     print(f'Epoch [{epoch+1}/{num_epochs}], Loss: {loss.item():.4f}')\n",
    "\n"
   ]
  },
  {
   "cell_type": "code",
   "execution_count": 21,
   "metadata": {},
   "outputs": [
    {
     "name": "stdout",
     "output_type": "stream",
     "text": [
      "Epoch: 1/1000\n"
     ]
    },
    {
     "name": "stderr",
     "output_type": "stream",
     "text": [
      "100%|██████████| 788/788 [00:02<00:00, 347.43it/s]\n"
     ]
    },
    {
     "name": "stdout",
     "output_type": "stream",
     "text": [
      "avg_loss_train: 11.380729675292969\n",
      "avg_loss_val: 7.249608993530273\n",
      "Epoch: 2/1000\n"
     ]
    },
    {
     "name": "stderr",
     "output_type": "stream",
     "text": [
      "100%|██████████| 788/788 [00:02<00:00, 342.30it/s]\n"
     ]
    },
    {
     "name": "stdout",
     "output_type": "stream",
     "text": [
      "avg_loss_train: 7.157425403594971\n",
      "avg_loss_val: 7.196472644805908\n",
      "Epoch: 3/1000\n"
     ]
    },
    {
     "name": "stderr",
     "output_type": "stream",
     "text": [
      "100%|██████████| 788/788 [00:02<00:00, 336.85it/s]\n"
     ]
    },
    {
     "name": "stdout",
     "output_type": "stream",
     "text": [
      "avg_loss_train: 7.20368766784668\n",
      "avg_loss_val: 7.275579452514648\n",
      "Epoch: 4/1000\n"
     ]
    },
    {
     "name": "stderr",
     "output_type": "stream",
     "text": [
      "100%|██████████| 788/788 [00:02<00:00, 364.65it/s]\n"
     ]
    },
    {
     "name": "stdout",
     "output_type": "stream",
     "text": [
      "avg_loss_train: 7.491987228393555\n",
      "avg_loss_val: 7.613012790679932\n",
      "Epoch: 5/1000\n"
     ]
    },
    {
     "name": "stderr",
     "output_type": "stream",
     "text": [
      "100%|██████████| 788/788 [00:02<00:00, 360.81it/s]\n"
     ]
    },
    {
     "name": "stdout",
     "output_type": "stream",
     "text": [
      "avg_loss_train: 7.670621871948242\n",
      "avg_loss_val: 7.772434711456299\n",
      "Epoch: 6/1000\n"
     ]
    },
    {
     "name": "stderr",
     "output_type": "stream",
     "text": [
      "100%|██████████| 788/788 [00:02<00:00, 356.72it/s]\n"
     ]
    },
    {
     "name": "stdout",
     "output_type": "stream",
     "text": [
      "avg_loss_train: 7.804819583892822\n",
      "avg_loss_val: 8.069823265075684\n",
      "Epoch: 7/1000\n"
     ]
    },
    {
     "name": "stderr",
     "output_type": "stream",
     "text": [
      "100%|██████████| 788/788 [00:02<00:00, 329.95it/s]\n"
     ]
    },
    {
     "name": "stdout",
     "output_type": "stream",
     "text": [
      "avg_loss_train: 7.835549831390381\n",
      "avg_loss_val: 7.850907802581787\n",
      "Epoch: 8/1000\n"
     ]
    },
    {
     "name": "stderr",
     "output_type": "stream",
     "text": [
      "100%|██████████| 788/788 [00:02<00:00, 367.10it/s]\n"
     ]
    },
    {
     "name": "stdout",
     "output_type": "stream",
     "text": [
      "avg_loss_train: 7.836110591888428\n",
      "avg_loss_val: 7.861189365386963\n",
      "Epoch: 9/1000\n"
     ]
    },
    {
     "name": "stderr",
     "output_type": "stream",
     "text": [
      "100%|██████████| 788/788 [00:02<00:00, 366.86it/s]\n"
     ]
    },
    {
     "name": "stdout",
     "output_type": "stream",
     "text": [
      "avg_loss_train: 7.844554424285889\n",
      "avg_loss_val: 7.813504219055176\n",
      "Epoch: 10/1000\n"
     ]
    },
    {
     "name": "stderr",
     "output_type": "stream",
     "text": [
      "100%|██████████| 788/788 [00:02<00:00, 356.24it/s]\n"
     ]
    },
    {
     "name": "stdout",
     "output_type": "stream",
     "text": [
      "avg_loss_train: 7.779885768890381\n",
      "avg_loss_val: 7.781555652618408\n",
      "Epoch: 11/1000\n"
     ]
    },
    {
     "name": "stderr",
     "output_type": "stream",
     "text": [
      "100%|██████████| 788/788 [00:02<00:00, 345.19it/s]\n"
     ]
    },
    {
     "name": "stdout",
     "output_type": "stream",
     "text": [
      "avg_loss_train: 7.773061275482178\n",
      "avg_loss_val: 7.730377197265625\n",
      "Epoch: 12/1000\n"
     ]
    },
    {
     "name": "stderr",
     "output_type": "stream",
     "text": [
      "100%|██████████| 788/788 [00:02<00:00, 358.23it/s]\n"
     ]
    },
    {
     "name": "stdout",
     "output_type": "stream",
     "text": [
      "avg_loss_train: 7.776986122131348\n",
      "avg_loss_val: 7.738363265991211\n",
      "Epoch: 13/1000\n"
     ]
    },
    {
     "name": "stderr",
     "output_type": "stream",
     "text": [
      "100%|██████████| 788/788 [00:02<00:00, 361.64it/s]\n"
     ]
    },
    {
     "name": "stdout",
     "output_type": "stream",
     "text": [
      "avg_loss_train: 7.740954875946045\n",
      "avg_loss_val: 7.7389302253723145\n",
      "Epoch: 14/1000\n"
     ]
    },
    {
     "name": "stderr",
     "output_type": "stream",
     "text": [
      "100%|██████████| 788/788 [00:02<00:00, 344.09it/s]\n"
     ]
    },
    {
     "name": "stdout",
     "output_type": "stream",
     "text": [
      "avg_loss_train: 7.709323406219482\n",
      "avg_loss_val: 7.686236381530762\n",
      "Epoch: 15/1000\n"
     ]
    },
    {
     "name": "stderr",
     "output_type": "stream",
     "text": [
      "100%|██████████| 788/788 [00:02<00:00, 356.24it/s]\n"
     ]
    },
    {
     "name": "stdout",
     "output_type": "stream",
     "text": [
      "avg_loss_train: 7.689550876617432\n",
      "avg_loss_val: 7.792572021484375\n",
      "Epoch: 16/1000\n"
     ]
    },
    {
     "name": "stderr",
     "output_type": "stream",
     "text": [
      "100%|██████████| 788/788 [00:02<00:00, 365.32it/s]\n"
     ]
    },
    {
     "name": "stdout",
     "output_type": "stream",
     "text": [
      "avg_loss_train: 7.699148654937744\n",
      "avg_loss_val: 7.685966491699219\n",
      "Epoch: 17/1000\n"
     ]
    },
    {
     "name": "stderr",
     "output_type": "stream",
     "text": [
      "100%|██████████| 788/788 [00:02<00:00, 367.03it/s]\n"
     ]
    },
    {
     "name": "stdout",
     "output_type": "stream",
     "text": [
      "avg_loss_train: 7.7046966552734375\n",
      "avg_loss_val: 7.746533393859863\n",
      "Epoch: 18/1000\n"
     ]
    },
    {
     "name": "stderr",
     "output_type": "stream",
     "text": [
      "100%|██████████| 788/788 [00:02<00:00, 358.67it/s]\n"
     ]
    },
    {
     "name": "stdout",
     "output_type": "stream",
     "text": [
      "avg_loss_train: 7.667443752288818\n",
      "avg_loss_val: 7.733426094055176\n",
      "Epoch: 19/1000\n"
     ]
    },
    {
     "name": "stderr",
     "output_type": "stream",
     "text": [
      "100%|██████████| 788/788 [00:02<00:00, 333.38it/s]\n"
     ]
    },
    {
     "name": "stdout",
     "output_type": "stream",
     "text": [
      "avg_loss_train: 7.699223041534424\n",
      "avg_loss_val: 7.698245048522949\n",
      "Epoch: 20/1000\n"
     ]
    },
    {
     "name": "stderr",
     "output_type": "stream",
     "text": [
      "100%|██████████| 788/788 [00:02<00:00, 367.48it/s]\n"
     ]
    },
    {
     "name": "stdout",
     "output_type": "stream",
     "text": [
      "avg_loss_train: 7.659453392028809\n",
      "avg_loss_val: 7.676483631134033\n",
      "Epoch: 21/1000\n"
     ]
    },
    {
     "name": "stderr",
     "output_type": "stream",
     "text": [
      "100%|██████████| 788/788 [00:02<00:00, 339.32it/s]\n"
     ]
    },
    {
     "name": "stdout",
     "output_type": "stream",
     "text": [
      "avg_loss_train: 7.610566139221191\n",
      "avg_loss_val: 7.649920463562012\n",
      "Epoch: 22/1000\n"
     ]
    },
    {
     "name": "stderr",
     "output_type": "stream",
     "text": [
      "100%|██████████| 788/788 [00:02<00:00, 357.69it/s]\n"
     ]
    },
    {
     "name": "stdout",
     "output_type": "stream",
     "text": [
      "avg_loss_train: 7.585335731506348\n",
      "avg_loss_val: 7.566735744476318\n",
      "Epoch: 23/1000\n"
     ]
    },
    {
     "name": "stderr",
     "output_type": "stream",
     "text": [
      "100%|██████████| 788/788 [00:02<00:00, 320.67it/s]\n"
     ]
    },
    {
     "name": "stdout",
     "output_type": "stream",
     "text": [
      "avg_loss_train: 7.5711517333984375\n",
      "avg_loss_val: 7.510639667510986\n",
      "Epoch: 24/1000\n"
     ]
    },
    {
     "name": "stderr",
     "output_type": "stream",
     "text": [
      "100%|██████████| 788/788 [00:02<00:00, 312.04it/s]\n"
     ]
    },
    {
     "name": "stdout",
     "output_type": "stream",
     "text": [
      "avg_loss_train: 7.530494213104248\n",
      "avg_loss_val: 7.499542236328125\n",
      "Epoch: 25/1000\n"
     ]
    },
    {
     "name": "stderr",
     "output_type": "stream",
     "text": [
      "100%|██████████| 788/788 [00:02<00:00, 323.59it/s]\n"
     ]
    },
    {
     "name": "stdout",
     "output_type": "stream",
     "text": [
      "avg_loss_train: 7.523716926574707\n",
      "avg_loss_val: 7.547187328338623\n",
      "Epoch: 26/1000\n"
     ]
    },
    {
     "name": "stderr",
     "output_type": "stream",
     "text": [
      "100%|██████████| 788/788 [00:02<00:00, 326.74it/s]\n"
     ]
    },
    {
     "name": "stdout",
     "output_type": "stream",
     "text": [
      "avg_loss_train: 7.537128448486328\n",
      "avg_loss_val: 7.502420425415039\n",
      "Epoch: 27/1000\n"
     ]
    },
    {
     "name": "stderr",
     "output_type": "stream",
     "text": [
      "100%|██████████| 788/788 [00:02<00:00, 301.78it/s]\n"
     ]
    },
    {
     "name": "stdout",
     "output_type": "stream",
     "text": [
      "avg_loss_train: 7.479146480560303\n",
      "avg_loss_val: 7.489846706390381\n",
      "Epoch: 28/1000\n"
     ]
    },
    {
     "name": "stderr",
     "output_type": "stream",
     "text": [
      "100%|██████████| 788/788 [00:02<00:00, 327.90it/s]\n"
     ]
    },
    {
     "name": "stdout",
     "output_type": "stream",
     "text": [
      "avg_loss_train: 7.490170955657959\n",
      "avg_loss_val: 7.4649553298950195\n",
      "Epoch: 29/1000\n"
     ]
    },
    {
     "name": "stderr",
     "output_type": "stream",
     "text": [
      "100%|██████████| 788/788 [00:02<00:00, 308.38it/s]\n"
     ]
    },
    {
     "name": "stdout",
     "output_type": "stream",
     "text": [
      "avg_loss_train: 7.429542541503906\n",
      "avg_loss_val: 7.440506458282471\n",
      "Epoch: 30/1000\n"
     ]
    },
    {
     "name": "stderr",
     "output_type": "stream",
     "text": [
      "100%|██████████| 788/788 [00:02<00:00, 314.88it/s]\n"
     ]
    },
    {
     "name": "stdout",
     "output_type": "stream",
     "text": [
      "avg_loss_train: 7.432459354400635\n",
      "avg_loss_val: 7.455714702606201\n",
      "Epoch: 31/1000\n"
     ]
    },
    {
     "name": "stderr",
     "output_type": "stream",
     "text": [
      "100%|██████████| 788/788 [00:02<00:00, 322.52it/s]\n"
     ]
    },
    {
     "name": "stdout",
     "output_type": "stream",
     "text": [
      "avg_loss_train: 7.40048360824585\n",
      "avg_loss_val: 7.469567775726318\n",
      "Epoch: 32/1000\n"
     ]
    },
    {
     "name": "stderr",
     "output_type": "stream",
     "text": [
      "100%|██████████| 788/788 [00:02<00:00, 336.16it/s]\n"
     ]
    },
    {
     "name": "stdout",
     "output_type": "stream",
     "text": [
      "avg_loss_train: 7.414164066314697\n",
      "avg_loss_val: 7.364654064178467\n",
      "Epoch: 33/1000\n"
     ]
    },
    {
     "name": "stderr",
     "output_type": "stream",
     "text": [
      "100%|██████████| 788/788 [00:02<00:00, 295.64it/s]\n"
     ]
    },
    {
     "name": "stdout",
     "output_type": "stream",
     "text": [
      "avg_loss_train: 7.406744956970215\n",
      "avg_loss_val: 7.414378643035889\n",
      "Epoch: 34/1000\n"
     ]
    },
    {
     "name": "stderr",
     "output_type": "stream",
     "text": [
      "100%|██████████| 788/788 [00:02<00:00, 313.28it/s]\n"
     ]
    },
    {
     "name": "stdout",
     "output_type": "stream",
     "text": [
      "avg_loss_train: 7.3852763175964355\n",
      "avg_loss_val: 7.403575420379639\n",
      "Epoch: 35/1000\n"
     ]
    },
    {
     "name": "stderr",
     "output_type": "stream",
     "text": [
      "100%|██████████| 788/788 [00:02<00:00, 316.69it/s]\n"
     ]
    },
    {
     "name": "stdout",
     "output_type": "stream",
     "text": [
      "avg_loss_train: 7.350806713104248\n",
      "avg_loss_val: 7.382757663726807\n",
      "Epoch: 36/1000\n"
     ]
    },
    {
     "name": "stderr",
     "output_type": "stream",
     "text": [
      "100%|██████████| 788/788 [00:02<00:00, 330.24it/s]\n"
     ]
    },
    {
     "name": "stdout",
     "output_type": "stream",
     "text": [
      "avg_loss_train: 7.322176456451416\n",
      "avg_loss_val: 7.31947135925293\n",
      "Epoch: 37/1000\n"
     ]
    },
    {
     "name": "stderr",
     "output_type": "stream",
     "text": [
      "100%|██████████| 788/788 [00:02<00:00, 331.44it/s]\n"
     ]
    },
    {
     "name": "stdout",
     "output_type": "stream",
     "text": [
      "avg_loss_train: 7.322463512420654\n",
      "avg_loss_val: 7.423341751098633\n",
      "Epoch: 38/1000\n"
     ]
    },
    {
     "name": "stderr",
     "output_type": "stream",
     "text": [
      "100%|██████████| 788/788 [00:02<00:00, 335.70it/s]\n"
     ]
    },
    {
     "name": "stdout",
     "output_type": "stream",
     "text": [
      "avg_loss_train: 7.319526195526123\n",
      "avg_loss_val: 7.239123344421387\n",
      "Epoch: 39/1000\n"
     ]
    },
    {
     "name": "stderr",
     "output_type": "stream",
     "text": [
      "100%|██████████| 788/788 [00:02<00:00, 331.21it/s]\n"
     ]
    },
    {
     "name": "stdout",
     "output_type": "stream",
     "text": [
      "avg_loss_train: 7.3119025230407715\n",
      "avg_loss_val: 7.403135299682617\n",
      "Epoch: 40/1000\n"
     ]
    },
    {
     "name": "stderr",
     "output_type": "stream",
     "text": [
      "100%|██████████| 788/788 [00:02<00:00, 326.95it/s]\n"
     ]
    },
    {
     "name": "stdout",
     "output_type": "stream",
     "text": [
      "avg_loss_train: 7.319656848907471\n",
      "avg_loss_val: 7.253818988800049\n",
      "Epoch: 41/1000\n"
     ]
    },
    {
     "name": "stderr",
     "output_type": "stream",
     "text": [
      "100%|██████████| 788/788 [00:02<00:00, 336.97it/s]\n"
     ]
    },
    {
     "name": "stdout",
     "output_type": "stream",
     "text": [
      "avg_loss_train: 7.3299174308776855\n",
      "avg_loss_val: 7.419661998748779\n",
      "Epoch: 42/1000\n"
     ]
    },
    {
     "name": "stderr",
     "output_type": "stream",
     "text": [
      "100%|██████████| 788/788 [00:02<00:00, 334.02it/s]\n"
     ]
    },
    {
     "name": "stdout",
     "output_type": "stream",
     "text": [
      "avg_loss_train: 7.331532001495361\n",
      "avg_loss_val: 7.3431291580200195\n",
      "Epoch: 43/1000\n"
     ]
    },
    {
     "name": "stderr",
     "output_type": "stream",
     "text": [
      "100%|██████████| 788/788 [00:02<00:00, 329.68it/s]\n"
     ]
    },
    {
     "name": "stdout",
     "output_type": "stream",
     "text": [
      "avg_loss_train: 7.355350494384766\n",
      "avg_loss_val: 7.415063858032227\n",
      "Epoch: 44/1000\n"
     ]
    },
    {
     "name": "stderr",
     "output_type": "stream",
     "text": [
      "100%|██████████| 788/788 [00:02<00:00, 338.62it/s]\n"
     ]
    },
    {
     "name": "stdout",
     "output_type": "stream",
     "text": [
      "avg_loss_train: 7.330095291137695\n",
      "avg_loss_val: 7.276691913604736\n",
      "Epoch: 45/1000\n"
     ]
    },
    {
     "name": "stderr",
     "output_type": "stream",
     "text": [
      "100%|██████████| 788/788 [00:02<00:00, 339.86it/s]\n"
     ]
    },
    {
     "name": "stdout",
     "output_type": "stream",
     "text": [
      "avg_loss_train: 7.307084083557129\n",
      "avg_loss_val: 7.343867778778076\n",
      "Epoch: 46/1000\n"
     ]
    },
    {
     "name": "stderr",
     "output_type": "stream",
     "text": [
      "100%|██████████| 788/788 [00:02<00:00, 326.61it/s]\n"
     ]
    },
    {
     "name": "stdout",
     "output_type": "stream",
     "text": [
      "avg_loss_train: 7.295622825622559\n",
      "avg_loss_val: 7.265249252319336\n",
      "Epoch: 47/1000\n"
     ]
    },
    {
     "name": "stderr",
     "output_type": "stream",
     "text": [
      "100%|██████████| 788/788 [00:02<00:00, 335.44it/s]\n"
     ]
    },
    {
     "name": "stdout",
     "output_type": "stream",
     "text": [
      "avg_loss_train: 7.284976005554199\n",
      "avg_loss_val: 7.379389762878418\n",
      "Epoch: 48/1000\n"
     ]
    },
    {
     "name": "stderr",
     "output_type": "stream",
     "text": [
      "100%|██████████| 788/788 [00:02<00:00, 334.45it/s]\n"
     ]
    },
    {
     "name": "stdout",
     "output_type": "stream",
     "text": [
      "avg_loss_train: 7.292080402374268\n",
      "avg_loss_val: 7.270242214202881\n",
      "Epoch: 49/1000\n"
     ]
    },
    {
     "name": "stderr",
     "output_type": "stream",
     "text": [
      "100%|██████████| 788/788 [00:02<00:00, 340.74it/s]\n"
     ]
    },
    {
     "name": "stdout",
     "output_type": "stream",
     "text": [
      "avg_loss_train: 7.306924819946289\n",
      "avg_loss_val: 7.3097453117370605\n",
      "Epoch: 50/1000\n"
     ]
    },
    {
     "name": "stderr",
     "output_type": "stream",
     "text": [
      "100%|██████████| 788/788 [00:02<00:00, 340.09it/s]\n"
     ]
    },
    {
     "name": "stdout",
     "output_type": "stream",
     "text": [
      "avg_loss_train: 7.264791011810303\n",
      "avg_loss_val: 7.300506591796875\n",
      "Epoch: 51/1000\n"
     ]
    },
    {
     "name": "stderr",
     "output_type": "stream",
     "text": [
      "100%|██████████| 788/788 [00:02<00:00, 320.03it/s]\n"
     ]
    },
    {
     "name": "stdout",
     "output_type": "stream",
     "text": [
      "avg_loss_train: 7.281074523925781\n",
      "avg_loss_val: 7.289846420288086\n",
      "Epoch: 52/1000\n"
     ]
    },
    {
     "name": "stderr",
     "output_type": "stream",
     "text": [
      "100%|██████████| 788/788 [00:02<00:00, 323.85it/s]\n"
     ]
    },
    {
     "name": "stdout",
     "output_type": "stream",
     "text": [
      "avg_loss_train: 7.303655624389648\n",
      "avg_loss_val: 7.413479804992676\n",
      "Epoch: 53/1000\n"
     ]
    },
    {
     "name": "stderr",
     "output_type": "stream",
     "text": [
      "100%|██████████| 788/788 [00:02<00:00, 340.44it/s]\n"
     ]
    },
    {
     "name": "stdout",
     "output_type": "stream",
     "text": [
      "avg_loss_train: 7.287981986999512\n",
      "avg_loss_val: 7.284619331359863\n",
      "Epoch: 54/1000\n"
     ]
    },
    {
     "name": "stderr",
     "output_type": "stream",
     "text": [
      "100%|██████████| 788/788 [00:02<00:00, 345.84it/s]\n"
     ]
    },
    {
     "name": "stdout",
     "output_type": "stream",
     "text": [
      "avg_loss_train: 7.3012471199035645\n",
      "avg_loss_val: 7.383560657501221\n",
      "Epoch: 55/1000\n"
     ]
    },
    {
     "name": "stderr",
     "output_type": "stream",
     "text": [
      "100%|██████████| 788/788 [00:02<00:00, 316.56it/s]\n"
     ]
    },
    {
     "name": "stdout",
     "output_type": "stream",
     "text": [
      "avg_loss_train: 7.281055927276611\n",
      "avg_loss_val: 7.271629333496094\n",
      "Epoch: 56/1000\n"
     ]
    },
    {
     "name": "stderr",
     "output_type": "stream",
     "text": [
      "100%|██████████| 788/788 [00:02<00:00, 299.23it/s]\n"
     ]
    },
    {
     "name": "stdout",
     "output_type": "stream",
     "text": [
      "avg_loss_train: 7.278247356414795\n",
      "avg_loss_val: 7.238658428192139\n",
      "Epoch: 57/1000\n"
     ]
    },
    {
     "name": "stderr",
     "output_type": "stream",
     "text": [
      "100%|██████████| 788/788 [00:02<00:00, 326.14it/s]\n"
     ]
    },
    {
     "name": "stdout",
     "output_type": "stream",
     "text": [
      "avg_loss_train: 7.276091575622559\n",
      "avg_loss_val: 7.2304606437683105\n",
      "Epoch: 58/1000\n"
     ]
    },
    {
     "name": "stderr",
     "output_type": "stream",
     "text": [
      "100%|██████████| 788/788 [00:02<00:00, 322.21it/s]\n"
     ]
    },
    {
     "name": "stdout",
     "output_type": "stream",
     "text": [
      "avg_loss_train: 7.258589744567871\n",
      "avg_loss_val: 7.23405122756958\n",
      "Epoch: 59/1000\n"
     ]
    },
    {
     "name": "stderr",
     "output_type": "stream",
     "text": [
      "100%|██████████| 788/788 [00:02<00:00, 312.41it/s]\n"
     ]
    },
    {
     "name": "stdout",
     "output_type": "stream",
     "text": [
      "avg_loss_train: 7.270962715148926\n",
      "avg_loss_val: 7.338042736053467\n",
      "Epoch: 60/1000\n"
     ]
    },
    {
     "name": "stderr",
     "output_type": "stream",
     "text": [
      "100%|██████████| 788/788 [00:02<00:00, 326.27it/s]\n"
     ]
    },
    {
     "name": "stdout",
     "output_type": "stream",
     "text": [
      "avg_loss_train: 7.295009136199951\n",
      "avg_loss_val: 7.291595935821533\n",
      "Epoch: 61/1000\n"
     ]
    },
    {
     "name": "stderr",
     "output_type": "stream",
     "text": [
      "100%|██████████| 788/788 [00:02<00:00, 333.14it/s]\n"
     ]
    },
    {
     "name": "stdout",
     "output_type": "stream",
     "text": [
      "avg_loss_train: 7.258220672607422\n",
      "avg_loss_val: 7.282768726348877\n",
      "Epoch: 62/1000\n"
     ]
    },
    {
     "name": "stderr",
     "output_type": "stream",
     "text": [
      "100%|██████████| 788/788 [00:02<00:00, 329.55it/s]\n"
     ]
    },
    {
     "name": "stdout",
     "output_type": "stream",
     "text": [
      "avg_loss_train: 7.271157741546631\n",
      "avg_loss_val: 7.3576765060424805\n",
      "Epoch: 63/1000\n"
     ]
    },
    {
     "name": "stderr",
     "output_type": "stream",
     "text": [
      "100%|██████████| 788/788 [00:02<00:00, 285.45it/s]\n"
     ]
    },
    {
     "name": "stdout",
     "output_type": "stream",
     "text": [
      "avg_loss_train: 7.281064033508301\n",
      "avg_loss_val: 7.33717679977417\n",
      "Epoch: 64/1000\n"
     ]
    },
    {
     "name": "stderr",
     "output_type": "stream",
     "text": [
      "100%|██████████| 788/788 [00:02<00:00, 296.65it/s]\n"
     ]
    },
    {
     "name": "stdout",
     "output_type": "stream",
     "text": [
      "avg_loss_train: 7.263907432556152\n",
      "avg_loss_val: 7.252191066741943\n",
      "Epoch: 65/1000\n"
     ]
    },
    {
     "name": "stderr",
     "output_type": "stream",
     "text": [
      "100%|██████████| 788/788 [00:02<00:00, 303.97it/s]\n"
     ]
    },
    {
     "name": "stdout",
     "output_type": "stream",
     "text": [
      "avg_loss_train: 7.24806547164917\n",
      "avg_loss_val: 7.263692855834961\n",
      "Epoch: 66/1000\n"
     ]
    },
    {
     "name": "stderr",
     "output_type": "stream",
     "text": [
      "100%|██████████| 788/788 [00:02<00:00, 317.71it/s]\n"
     ]
    },
    {
     "name": "stdout",
     "output_type": "stream",
     "text": [
      "avg_loss_train: 7.2632246017456055\n",
      "avg_loss_val: 7.293390274047852\n",
      "Epoch: 67/1000\n"
     ]
    },
    {
     "name": "stderr",
     "output_type": "stream",
     "text": [
      "100%|██████████| 788/788 [00:02<00:00, 313.66it/s]\n"
     ]
    },
    {
     "name": "stdout",
     "output_type": "stream",
     "text": [
      "avg_loss_train: 7.244937896728516\n",
      "avg_loss_val: 7.271871566772461\n",
      "Epoch: 68/1000\n"
     ]
    },
    {
     "name": "stderr",
     "output_type": "stream",
     "text": [
      "100%|██████████| 788/788 [00:02<00:00, 317.82it/s]\n"
     ]
    },
    {
     "name": "stdout",
     "output_type": "stream",
     "text": [
      "avg_loss_train: 7.246330261230469\n",
      "avg_loss_val: 7.293807506561279\n",
      "Epoch: 69/1000\n"
     ]
    },
    {
     "name": "stderr",
     "output_type": "stream",
     "text": [
      "100%|██████████| 788/788 [00:02<00:00, 318.74it/s]\n"
     ]
    },
    {
     "name": "stdout",
     "output_type": "stream",
     "text": [
      "avg_loss_train: 7.278800964355469\n",
      "avg_loss_val: 7.258474349975586\n",
      "Epoch: 70/1000\n"
     ]
    },
    {
     "name": "stderr",
     "output_type": "stream",
     "text": [
      "100%|██████████| 788/788 [00:02<00:00, 324.12it/s]\n"
     ]
    },
    {
     "name": "stdout",
     "output_type": "stream",
     "text": [
      "avg_loss_train: 7.245744228363037\n",
      "avg_loss_val: 7.236482620239258\n",
      "Epoch: 71/1000\n"
     ]
    },
    {
     "name": "stderr",
     "output_type": "stream",
     "text": [
      "100%|██████████| 788/788 [00:02<00:00, 313.78it/s]\n"
     ]
    },
    {
     "name": "stdout",
     "output_type": "stream",
     "text": [
      "avg_loss_train: 7.263181209564209\n",
      "avg_loss_val: 7.300449848175049\n",
      "Epoch: 72/1000\n"
     ]
    },
    {
     "name": "stderr",
     "output_type": "stream",
     "text": [
      "100%|██████████| 788/788 [00:02<00:00, 323.12it/s]\n"
     ]
    },
    {
     "name": "stdout",
     "output_type": "stream",
     "text": [
      "avg_loss_train: 7.257339000701904\n",
      "avg_loss_val: 7.242433071136475\n",
      "Epoch: 73/1000\n"
     ]
    },
    {
     "name": "stderr",
     "output_type": "stream",
     "text": [
      "100%|██████████| 788/788 [00:02<00:00, 318.48it/s]\n"
     ]
    },
    {
     "name": "stdout",
     "output_type": "stream",
     "text": [
      "avg_loss_train: 7.237981796264648\n",
      "avg_loss_val: 7.259289264678955\n",
      "Epoch: 74/1000\n"
     ]
    },
    {
     "name": "stderr",
     "output_type": "stream",
     "text": [
      "100%|██████████| 788/788 [00:02<00:00, 313.35it/s]\n"
     ]
    },
    {
     "name": "stdout",
     "output_type": "stream",
     "text": [
      "avg_loss_train: 7.2577738761901855\n",
      "avg_loss_val: 7.273898124694824\n",
      "Epoch: 75/1000\n"
     ]
    },
    {
     "name": "stderr",
     "output_type": "stream",
     "text": [
      "100%|██████████| 788/788 [00:02<00:00, 314.02it/s]\n"
     ]
    },
    {
     "name": "stdout",
     "output_type": "stream",
     "text": [
      "avg_loss_train: 7.253095626831055\n",
      "avg_loss_val: 7.246579170227051\n",
      "Epoch: 76/1000\n"
     ]
    },
    {
     "name": "stderr",
     "output_type": "stream",
     "text": [
      "100%|██████████| 788/788 [00:02<00:00, 304.45it/s]\n"
     ]
    },
    {
     "name": "stdout",
     "output_type": "stream",
     "text": [
      "avg_loss_train: 7.255299091339111\n",
      "avg_loss_val: 7.3464813232421875\n",
      "Epoch: 77/1000\n"
     ]
    },
    {
     "name": "stderr",
     "output_type": "stream",
     "text": [
      "100%|██████████| 788/788 [00:02<00:00, 289.02it/s]\n"
     ]
    },
    {
     "name": "stdout",
     "output_type": "stream",
     "text": [
      "avg_loss_train: 7.253601551055908\n",
      "avg_loss_val: 7.271107196807861\n",
      "Epoch: 78/1000\n"
     ]
    },
    {
     "name": "stderr",
     "output_type": "stream",
     "text": [
      "100%|██████████| 788/788 [00:02<00:00, 307.17it/s]\n"
     ]
    },
    {
     "name": "stdout",
     "output_type": "stream",
     "text": [
      "avg_loss_train: 7.276113033294678\n",
      "avg_loss_val: 7.2567853927612305\n",
      "Epoch: 79/1000\n"
     ]
    },
    {
     "name": "stderr",
     "output_type": "stream",
     "text": [
      "100%|██████████| 788/788 [00:02<00:00, 312.82it/s]\n"
     ]
    },
    {
     "name": "stdout",
     "output_type": "stream",
     "text": [
      "avg_loss_train: 7.238954067230225\n",
      "avg_loss_val: 7.235325813293457\n",
      "Epoch: 80/1000\n"
     ]
    },
    {
     "name": "stderr",
     "output_type": "stream",
     "text": [
      "100%|██████████| 788/788 [00:02<00:00, 294.10it/s]\n"
     ]
    },
    {
     "name": "stdout",
     "output_type": "stream",
     "text": [
      "avg_loss_train: 7.250070095062256\n",
      "avg_loss_val: 7.274184703826904\n",
      "Epoch: 81/1000\n"
     ]
    },
    {
     "name": "stderr",
     "output_type": "stream",
     "text": [
      "100%|██████████| 788/788 [00:02<00:00, 300.72it/s]\n"
     ]
    },
    {
     "name": "stdout",
     "output_type": "stream",
     "text": [
      "avg_loss_train: 7.24190616607666\n",
      "avg_loss_val: 7.372656345367432\n",
      "Epoch: 82/1000\n"
     ]
    },
    {
     "name": "stderr",
     "output_type": "stream",
     "text": [
      "100%|██████████| 788/788 [00:02<00:00, 294.51it/s]\n"
     ]
    },
    {
     "name": "stdout",
     "output_type": "stream",
     "text": [
      "avg_loss_train: 7.2402825355529785\n",
      "avg_loss_val: 7.2545084953308105\n",
      "Epoch: 83/1000\n"
     ]
    },
    {
     "name": "stderr",
     "output_type": "stream",
     "text": [
      "100%|██████████| 788/788 [00:02<00:00, 311.91it/s]\n"
     ]
    },
    {
     "name": "stdout",
     "output_type": "stream",
     "text": [
      "avg_loss_train: 7.235558986663818\n",
      "avg_loss_val: 7.222206115722656\n",
      "Epoch: 84/1000\n"
     ]
    },
    {
     "name": "stderr",
     "output_type": "stream",
     "text": [
      "100%|██████████| 788/788 [00:02<00:00, 278.78it/s]\n"
     ]
    },
    {
     "name": "stdout",
     "output_type": "stream",
     "text": [
      "avg_loss_train: 7.249754428863525\n",
      "avg_loss_val: 7.244662761688232\n",
      "Epoch: 85/1000\n"
     ]
    },
    {
     "name": "stderr",
     "output_type": "stream",
     "text": [
      "100%|██████████| 788/788 [00:02<00:00, 283.96it/s]\n"
     ]
    },
    {
     "name": "stdout",
     "output_type": "stream",
     "text": [
      "avg_loss_train: 7.229766845703125\n",
      "avg_loss_val: 7.264463424682617\n",
      "Epoch: 86/1000\n"
     ]
    },
    {
     "name": "stderr",
     "output_type": "stream",
     "text": [
      "100%|██████████| 788/788 [00:02<00:00, 275.86it/s]\n"
     ]
    },
    {
     "name": "stdout",
     "output_type": "stream",
     "text": [
      "avg_loss_train: 7.267078876495361\n",
      "avg_loss_val: 7.3079833984375\n",
      "Epoch: 87/1000\n"
     ]
    },
    {
     "name": "stderr",
     "output_type": "stream",
     "text": [
      "100%|██████████| 788/788 [00:02<00:00, 302.22it/s]\n"
     ]
    },
    {
     "name": "stdout",
     "output_type": "stream",
     "text": [
      "avg_loss_train: 7.241648197174072\n",
      "avg_loss_val: 7.243194580078125\n",
      "Epoch: 88/1000\n"
     ]
    },
    {
     "name": "stderr",
     "output_type": "stream",
     "text": [
      "100%|██████████| 788/788 [00:02<00:00, 293.65it/s]\n"
     ]
    },
    {
     "name": "stdout",
     "output_type": "stream",
     "text": [
      "avg_loss_train: 7.251438140869141\n",
      "avg_loss_val: 7.2953338623046875\n",
      "Epoch: 89/1000\n"
     ]
    },
    {
     "name": "stderr",
     "output_type": "stream",
     "text": [
      "100%|██████████| 788/788 [00:02<00:00, 289.85it/s]\n"
     ]
    },
    {
     "name": "stdout",
     "output_type": "stream",
     "text": [
      "avg_loss_train: 7.280024528503418\n",
      "avg_loss_val: 7.277259349822998\n",
      "Epoch: 90/1000\n"
     ]
    },
    {
     "name": "stderr",
     "output_type": "stream",
     "text": [
      "100%|██████████| 788/788 [00:02<00:00, 303.85it/s]\n"
     ]
    },
    {
     "name": "stdout",
     "output_type": "stream",
     "text": [
      "avg_loss_train: 7.251596927642822\n",
      "avg_loss_val: 7.269667148590088\n",
      "Epoch: 91/1000\n"
     ]
    },
    {
     "name": "stderr",
     "output_type": "stream",
     "text": [
      "100%|██████████| 788/788 [00:02<00:00, 307.53it/s]\n"
     ]
    },
    {
     "name": "stdout",
     "output_type": "stream",
     "text": [
      "avg_loss_train: 7.246298313140869\n",
      "avg_loss_val: 7.278906345367432\n",
      "Epoch: 92/1000\n"
     ]
    },
    {
     "name": "stderr",
     "output_type": "stream",
     "text": [
      "100%|██████████| 788/788 [00:02<00:00, 305.92it/s]\n"
     ]
    },
    {
     "name": "stdout",
     "output_type": "stream",
     "text": [
      "avg_loss_train: 7.253587245941162\n",
      "avg_loss_val: 7.2781453132629395\n",
      "Epoch: 93/1000\n"
     ]
    },
    {
     "name": "stderr",
     "output_type": "stream",
     "text": [
      "100%|██████████| 788/788 [00:02<00:00, 308.43it/s]\n"
     ]
    },
    {
     "name": "stdout",
     "output_type": "stream",
     "text": [
      "avg_loss_train: 7.232203960418701\n",
      "avg_loss_val: 7.284095764160156\n",
      "Epoch: 94/1000\n"
     ]
    },
    {
     "name": "stderr",
     "output_type": "stream",
     "text": [
      "100%|██████████| 788/788 [00:02<00:00, 278.59it/s]\n"
     ]
    },
    {
     "name": "stdout",
     "output_type": "stream",
     "text": [
      "avg_loss_train: 7.247283458709717\n",
      "avg_loss_val: 7.215182781219482\n",
      "Epoch: 95/1000\n"
     ]
    },
    {
     "name": "stderr",
     "output_type": "stream",
     "text": [
      "100%|██████████| 788/788 [00:02<00:00, 303.74it/s]\n"
     ]
    },
    {
     "name": "stdout",
     "output_type": "stream",
     "text": [
      "avg_loss_train: 7.255198001861572\n",
      "avg_loss_val: 7.285014629364014\n",
      "Epoch: 96/1000\n"
     ]
    },
    {
     "name": "stderr",
     "output_type": "stream",
     "text": [
      "100%|██████████| 788/788 [00:02<00:00, 301.65it/s]\n"
     ]
    },
    {
     "name": "stdout",
     "output_type": "stream",
     "text": [
      "avg_loss_train: 7.2989373207092285\n",
      "avg_loss_val: 7.343233108520508\n",
      "Epoch: 97/1000\n"
     ]
    },
    {
     "name": "stderr",
     "output_type": "stream",
     "text": [
      "100%|██████████| 788/788 [00:02<00:00, 308.51it/s]\n"
     ]
    },
    {
     "name": "stdout",
     "output_type": "stream",
     "text": [
      "avg_loss_train: 7.272292613983154\n",
      "avg_loss_val: 7.261857986450195\n",
      "Epoch: 98/1000\n"
     ]
    },
    {
     "name": "stderr",
     "output_type": "stream",
     "text": [
      "100%|██████████| 788/788 [00:02<00:00, 305.74it/s]\n"
     ]
    },
    {
     "name": "stdout",
     "output_type": "stream",
     "text": [
      "avg_loss_train: 7.2642598152160645\n",
      "avg_loss_val: 7.247343063354492\n",
      "Epoch: 99/1000\n"
     ]
    },
    {
     "name": "stderr",
     "output_type": "stream",
     "text": [
      "100%|██████████| 788/788 [00:02<00:00, 291.65it/s]\n"
     ]
    },
    {
     "name": "stdout",
     "output_type": "stream",
     "text": [
      "avg_loss_train: 7.238604545593262\n",
      "avg_loss_val: 7.265821933746338\n",
      "Epoch: 100/1000\n"
     ]
    },
    {
     "name": "stderr",
     "output_type": "stream",
     "text": [
      "100%|██████████| 788/788 [00:02<00:00, 297.61it/s]\n"
     ]
    },
    {
     "name": "stdout",
     "output_type": "stream",
     "text": [
      "avg_loss_train: 7.255998134613037\n",
      "avg_loss_val: 7.321259021759033\n",
      "Epoch: 101/1000\n"
     ]
    },
    {
     "name": "stderr",
     "output_type": "stream",
     "text": [
      "100%|██████████| 788/788 [00:02<00:00, 299.92it/s]\n"
     ]
    },
    {
     "name": "stdout",
     "output_type": "stream",
     "text": [
      "avg_loss_train: 7.249810218811035\n",
      "avg_loss_val: 7.277750015258789\n",
      "Epoch: 102/1000\n"
     ]
    },
    {
     "name": "stderr",
     "output_type": "stream",
     "text": [
      "100%|██████████| 788/788 [00:02<00:00, 314.29it/s]\n"
     ]
    },
    {
     "name": "stdout",
     "output_type": "stream",
     "text": [
      "avg_loss_train: 7.258325576782227\n",
      "avg_loss_val: 7.239675998687744\n",
      "Epoch: 103/1000\n"
     ]
    },
    {
     "name": "stderr",
     "output_type": "stream",
     "text": [
      "100%|██████████| 788/788 [00:02<00:00, 275.85it/s]\n"
     ]
    },
    {
     "name": "stdout",
     "output_type": "stream",
     "text": [
      "avg_loss_train: 7.226365566253662\n",
      "avg_loss_val: 7.217477798461914\n",
      "Epoch: 104/1000\n"
     ]
    },
    {
     "name": "stderr",
     "output_type": "stream",
     "text": [
      "100%|██████████| 788/788 [00:02<00:00, 267.59it/s]\n"
     ]
    },
    {
     "name": "stdout",
     "output_type": "stream",
     "text": [
      "avg_loss_train: 7.233608722686768\n",
      "avg_loss_val: 7.313718795776367\n",
      "Epoch: 105/1000\n"
     ]
    },
    {
     "name": "stderr",
     "output_type": "stream",
     "text": [
      "100%|██████████| 788/788 [00:03<00:00, 262.52it/s]\n"
     ]
    },
    {
     "name": "stdout",
     "output_type": "stream",
     "text": [
      "avg_loss_train: 7.257530689239502\n",
      "avg_loss_val: 7.342048168182373\n",
      "Epoch: 106/1000\n"
     ]
    },
    {
     "name": "stderr",
     "output_type": "stream",
     "text": [
      "100%|██████████| 788/788 [00:02<00:00, 282.12it/s]\n"
     ]
    },
    {
     "name": "stdout",
     "output_type": "stream",
     "text": [
      "avg_loss_train: 7.272395133972168\n",
      "avg_loss_val: 7.236944198608398\n",
      "Epoch: 107/1000\n"
     ]
    },
    {
     "name": "stderr",
     "output_type": "stream",
     "text": [
      "100%|██████████| 788/788 [00:02<00:00, 278.25it/s]\n"
     ]
    },
    {
     "name": "stdout",
     "output_type": "stream",
     "text": [
      "avg_loss_train: 7.244349956512451\n",
      "avg_loss_val: 7.231488227844238\n",
      "Epoch: 108/1000\n"
     ]
    },
    {
     "name": "stderr",
     "output_type": "stream",
     "text": [
      "100%|██████████| 788/788 [00:02<00:00, 276.24it/s]\n"
     ]
    },
    {
     "name": "stdout",
     "output_type": "stream",
     "text": [
      "avg_loss_train: 7.226653099060059\n",
      "avg_loss_val: 7.28633451461792\n",
      "Epoch: 109/1000\n"
     ]
    },
    {
     "name": "stderr",
     "output_type": "stream",
     "text": [
      "100%|██████████| 788/788 [00:03<00:00, 258.65it/s]\n"
     ]
    },
    {
     "name": "stdout",
     "output_type": "stream",
     "text": [
      "avg_loss_train: 7.267690181732178\n",
      "avg_loss_val: 7.322962760925293\n",
      "Epoch: 110/1000\n"
     ]
    },
    {
     "name": "stderr",
     "output_type": "stream",
     "text": [
      "100%|██████████| 788/788 [00:03<00:00, 248.05it/s]\n"
     ]
    },
    {
     "name": "stdout",
     "output_type": "stream",
     "text": [
      "avg_loss_train: 7.281299114227295\n",
      "avg_loss_val: 7.291266918182373\n",
      "Epoch: 111/1000\n"
     ]
    },
    {
     "name": "stderr",
     "output_type": "stream",
     "text": [
      "100%|██████████| 788/788 [00:03<00:00, 225.91it/s]\n"
     ]
    },
    {
     "name": "stdout",
     "output_type": "stream",
     "text": [
      "avg_loss_train: 7.235583305358887\n",
      "avg_loss_val: 7.2036333084106445\n",
      "Epoch: 112/1000\n"
     ]
    },
    {
     "name": "stderr",
     "output_type": "stream",
     "text": [
      "100%|██████████| 788/788 [00:03<00:00, 229.08it/s]\n"
     ]
    },
    {
     "name": "stdout",
     "output_type": "stream",
     "text": [
      "avg_loss_train: 7.241645812988281\n",
      "avg_loss_val: 7.221997261047363\n",
      "Epoch: 113/1000\n"
     ]
    },
    {
     "name": "stderr",
     "output_type": "stream",
     "text": [
      "100%|██████████| 788/788 [00:03<00:00, 240.61it/s]\n"
     ]
    },
    {
     "name": "stdout",
     "output_type": "stream",
     "text": [
      "avg_loss_train: 7.227609157562256\n",
      "avg_loss_val: 7.2942280769348145\n",
      "Epoch: 114/1000\n"
     ]
    },
    {
     "name": "stderr",
     "output_type": "stream",
     "text": [
      "100%|██████████| 788/788 [00:03<00:00, 245.26it/s]\n"
     ]
    },
    {
     "name": "stdout",
     "output_type": "stream",
     "text": [
      "avg_loss_train: 7.258840560913086\n",
      "avg_loss_val: 7.283763408660889\n",
      "Epoch: 115/1000\n"
     ]
    },
    {
     "name": "stderr",
     "output_type": "stream",
     "text": [
      "100%|██████████| 788/788 [00:03<00:00, 237.44it/s]\n"
     ]
    },
    {
     "name": "stdout",
     "output_type": "stream",
     "text": [
      "avg_loss_train: 7.243851184844971\n",
      "avg_loss_val: 7.312512397766113\n",
      "Epoch: 116/1000\n"
     ]
    },
    {
     "name": "stderr",
     "output_type": "stream",
     "text": [
      "100%|██████████| 788/788 [00:03<00:00, 232.37it/s]\n"
     ]
    },
    {
     "name": "stdout",
     "output_type": "stream",
     "text": [
      "avg_loss_train: 7.2940874099731445\n",
      "avg_loss_val: 7.305505752563477\n",
      "Epoch: 117/1000\n"
     ]
    },
    {
     "name": "stderr",
     "output_type": "stream",
     "text": [
      "100%|██████████| 788/788 [00:03<00:00, 237.49it/s]\n"
     ]
    },
    {
     "name": "stdout",
     "output_type": "stream",
     "text": [
      "avg_loss_train: 7.2673187255859375\n",
      "avg_loss_val: 7.228419780731201\n",
      "Epoch: 118/1000\n"
     ]
    },
    {
     "name": "stderr",
     "output_type": "stream",
     "text": [
      "100%|██████████| 788/788 [00:03<00:00, 241.56it/s]\n"
     ]
    },
    {
     "name": "stdout",
     "output_type": "stream",
     "text": [
      "avg_loss_train: 7.25789737701416\n",
      "avg_loss_val: 7.269142150878906\n",
      "Epoch: 119/1000\n"
     ]
    },
    {
     "name": "stderr",
     "output_type": "stream",
     "text": [
      "100%|██████████| 788/788 [00:03<00:00, 236.42it/s]\n"
     ]
    },
    {
     "name": "stdout",
     "output_type": "stream",
     "text": [
      "avg_loss_train: 7.242605209350586\n",
      "avg_loss_val: 7.262825012207031\n",
      "Epoch: 120/1000\n"
     ]
    },
    {
     "name": "stderr",
     "output_type": "stream",
     "text": [
      "100%|██████████| 788/788 [00:03<00:00, 223.14it/s]\n"
     ]
    },
    {
     "name": "stdout",
     "output_type": "stream",
     "text": [
      "avg_loss_train: 7.251901149749756\n",
      "avg_loss_val: 7.302767753601074\n",
      "Epoch: 121/1000\n"
     ]
    },
    {
     "name": "stderr",
     "output_type": "stream",
     "text": [
      "100%|██████████| 788/788 [00:03<00:00, 237.21it/s]\n"
     ]
    },
    {
     "name": "stdout",
     "output_type": "stream",
     "text": [
      "avg_loss_train: 7.26939058303833\n",
      "avg_loss_val: 7.239141941070557\n",
      "Epoch: 122/1000\n"
     ]
    },
    {
     "name": "stderr",
     "output_type": "stream",
     "text": [
      "100%|██████████| 788/788 [00:03<00:00, 228.99it/s]\n"
     ]
    },
    {
     "name": "stdout",
     "output_type": "stream",
     "text": [
      "avg_loss_train: 7.241206645965576\n",
      "avg_loss_val: 7.237858295440674\n",
      "Epoch: 123/1000\n"
     ]
    },
    {
     "name": "stderr",
     "output_type": "stream",
     "text": [
      "100%|██████████| 788/788 [00:03<00:00, 213.11it/s]\n"
     ]
    },
    {
     "name": "stdout",
     "output_type": "stream",
     "text": [
      "avg_loss_train: 7.255202770233154\n",
      "avg_loss_val: 7.238568305969238\n",
      "Epoch: 124/1000\n"
     ]
    },
    {
     "name": "stderr",
     "output_type": "stream",
     "text": [
      "100%|██████████| 788/788 [00:03<00:00, 214.87it/s]\n"
     ]
    },
    {
     "name": "stdout",
     "output_type": "stream",
     "text": [
      "avg_loss_train: 7.230442523956299\n",
      "avg_loss_val: 7.2112650871276855\n",
      "Epoch: 125/1000\n"
     ]
    },
    {
     "name": "stderr",
     "output_type": "stream",
     "text": [
      "100%|██████████| 788/788 [00:03<00:00, 230.10it/s]\n"
     ]
    },
    {
     "name": "stdout",
     "output_type": "stream",
     "text": [
      "avg_loss_train: 7.238275527954102\n",
      "avg_loss_val: 7.247949600219727\n",
      "Epoch: 126/1000\n"
     ]
    },
    {
     "name": "stderr",
     "output_type": "stream",
     "text": [
      "100%|██████████| 788/788 [00:03<00:00, 237.28it/s]\n"
     ]
    },
    {
     "name": "stdout",
     "output_type": "stream",
     "text": [
      "avg_loss_train: 7.2184576988220215\n",
      "avg_loss_val: 7.217030048370361\n",
      "Epoch: 127/1000\n"
     ]
    },
    {
     "name": "stderr",
     "output_type": "stream",
     "text": [
      "100%|██████████| 788/788 [00:03<00:00, 226.30it/s]\n"
     ]
    },
    {
     "name": "stdout",
     "output_type": "stream",
     "text": [
      "avg_loss_train: 7.23561429977417\n",
      "avg_loss_val: 7.251287460327148\n",
      "Epoch: 128/1000\n"
     ]
    },
    {
     "name": "stderr",
     "output_type": "stream",
     "text": [
      "100%|██████████| 788/788 [00:03<00:00, 236.21it/s]\n"
     ]
    },
    {
     "name": "stdout",
     "output_type": "stream",
     "text": [
      "avg_loss_train: 7.253345489501953\n",
      "avg_loss_val: 7.332481384277344\n",
      "Epoch: 129/1000\n"
     ]
    },
    {
     "name": "stderr",
     "output_type": "stream",
     "text": [
      "100%|██████████| 788/788 [00:03<00:00, 234.59it/s]\n"
     ]
    },
    {
     "name": "stdout",
     "output_type": "stream",
     "text": [
      "avg_loss_train: 7.25978422164917\n",
      "avg_loss_val: 7.219163417816162\n",
      "Epoch: 130/1000\n"
     ]
    },
    {
     "name": "stderr",
     "output_type": "stream",
     "text": [
      "100%|██████████| 788/788 [00:03<00:00, 234.52it/s]\n"
     ]
    },
    {
     "name": "stdout",
     "output_type": "stream",
     "text": [
      "avg_loss_train: 7.240865707397461\n",
      "avg_loss_val: 7.30422830581665\n",
      "Epoch: 131/1000\n"
     ]
    },
    {
     "name": "stderr",
     "output_type": "stream",
     "text": [
      "100%|██████████| 788/788 [00:03<00:00, 233.84it/s]\n"
     ]
    },
    {
     "name": "stdout",
     "output_type": "stream",
     "text": [
      "avg_loss_train: 7.244297981262207\n",
      "avg_loss_val: 7.293086528778076\n",
      "Epoch: 132/1000\n"
     ]
    },
    {
     "name": "stderr",
     "output_type": "stream",
     "text": [
      "100%|██████████| 788/788 [00:03<00:00, 231.63it/s]\n"
     ]
    },
    {
     "name": "stdout",
     "output_type": "stream",
     "text": [
      "avg_loss_train: 7.261462688446045\n",
      "avg_loss_val: 7.240945816040039\n",
      "Epoch: 133/1000\n"
     ]
    },
    {
     "name": "stderr",
     "output_type": "stream",
     "text": [
      "100%|██████████| 788/788 [00:03<00:00, 234.52it/s]\n"
     ]
    },
    {
     "name": "stdout",
     "output_type": "stream",
     "text": [
      "avg_loss_train: 7.221101760864258\n",
      "avg_loss_val: 7.235773086547852\n",
      "Epoch: 134/1000\n"
     ]
    },
    {
     "name": "stderr",
     "output_type": "stream",
     "text": [
      "100%|██████████| 788/788 [00:03<00:00, 240.99it/s]\n"
     ]
    },
    {
     "name": "stdout",
     "output_type": "stream",
     "text": [
      "avg_loss_train: 7.241812229156494\n",
      "avg_loss_val: 7.239965915679932\n",
      "Epoch: 135/1000\n"
     ]
    },
    {
     "name": "stderr",
     "output_type": "stream",
     "text": [
      "100%|██████████| 788/788 [00:03<00:00, 240.91it/s]\n"
     ]
    },
    {
     "name": "stdout",
     "output_type": "stream",
     "text": [
      "avg_loss_train: 7.215260982513428\n",
      "avg_loss_val: 7.207281589508057\n",
      "Epoch: 136/1000\n"
     ]
    },
    {
     "name": "stderr",
     "output_type": "stream",
     "text": [
      "100%|██████████| 788/788 [00:03<00:00, 232.79it/s]\n"
     ]
    },
    {
     "name": "stdout",
     "output_type": "stream",
     "text": [
      "avg_loss_train: 7.231685638427734\n",
      "avg_loss_val: 7.280168056488037\n",
      "Epoch: 137/1000\n"
     ]
    },
    {
     "name": "stderr",
     "output_type": "stream",
     "text": [
      "100%|██████████| 788/788 [00:03<00:00, 236.36it/s]\n"
     ]
    },
    {
     "name": "stdout",
     "output_type": "stream",
     "text": [
      "avg_loss_train: 7.256988525390625\n",
      "avg_loss_val: 7.293243408203125\n",
      "Epoch: 138/1000\n"
     ]
    },
    {
     "name": "stderr",
     "output_type": "stream",
     "text": [
      "100%|██████████| 788/788 [00:03<00:00, 232.58it/s]\n"
     ]
    },
    {
     "name": "stdout",
     "output_type": "stream",
     "text": [
      "avg_loss_train: 7.254482746124268\n",
      "avg_loss_val: 7.241973876953125\n",
      "Epoch: 139/1000\n"
     ]
    },
    {
     "name": "stderr",
     "output_type": "stream",
     "text": [
      "100%|██████████| 788/788 [00:03<00:00, 242.35it/s]\n"
     ]
    },
    {
     "name": "stdout",
     "output_type": "stream",
     "text": [
      "avg_loss_train: 7.253037929534912\n",
      "avg_loss_val: 7.280149459838867\n",
      "Epoch: 140/1000\n"
     ]
    },
    {
     "name": "stderr",
     "output_type": "stream",
     "text": [
      "100%|██████████| 788/788 [00:03<00:00, 247.08it/s]\n"
     ]
    },
    {
     "name": "stdout",
     "output_type": "stream",
     "text": [
      "avg_loss_train: 7.2365946769714355\n",
      "avg_loss_val: 7.294290542602539\n",
      "Epoch: 141/1000\n"
     ]
    },
    {
     "name": "stderr",
     "output_type": "stream",
     "text": [
      "100%|██████████| 788/788 [00:03<00:00, 241.65it/s]\n"
     ]
    },
    {
     "name": "stdout",
     "output_type": "stream",
     "text": [
      "avg_loss_train: 7.2469096183776855\n",
      "avg_loss_val: 7.230136394500732\n",
      "Epoch: 142/1000\n"
     ]
    },
    {
     "name": "stderr",
     "output_type": "stream",
     "text": [
      "100%|██████████| 788/788 [00:03<00:00, 230.58it/s]\n"
     ]
    },
    {
     "name": "stdout",
     "output_type": "stream",
     "text": [
      "avg_loss_train: 7.223343849182129\n",
      "avg_loss_val: 7.298620223999023\n",
      "Epoch: 143/1000\n"
     ]
    },
    {
     "name": "stderr",
     "output_type": "stream",
     "text": [
      "100%|██████████| 788/788 [00:03<00:00, 243.04it/s]\n"
     ]
    },
    {
     "name": "stdout",
     "output_type": "stream",
     "text": [
      "avg_loss_train: 7.249794960021973\n",
      "avg_loss_val: 7.263702392578125\n",
      "Epoch: 144/1000\n"
     ]
    },
    {
     "name": "stderr",
     "output_type": "stream",
     "text": [
      "100%|██████████| 788/788 [00:03<00:00, 238.21it/s]\n"
     ]
    },
    {
     "name": "stdout",
     "output_type": "stream",
     "text": [
      "avg_loss_train: 7.233143329620361\n",
      "avg_loss_val: 7.25086784362793\n",
      "Epoch: 145/1000\n"
     ]
    },
    {
     "name": "stderr",
     "output_type": "stream",
     "text": [
      "100%|██████████| 788/788 [00:03<00:00, 233.87it/s]\n"
     ]
    },
    {
     "name": "stdout",
     "output_type": "stream",
     "text": [
      "avg_loss_train: 7.236526012420654\n",
      "avg_loss_val: 7.245935440063477\n",
      "Epoch: 146/1000\n"
     ]
    },
    {
     "name": "stderr",
     "output_type": "stream",
     "text": [
      "100%|██████████| 788/788 [00:03<00:00, 231.65it/s]\n"
     ]
    },
    {
     "name": "stdout",
     "output_type": "stream",
     "text": [
      "avg_loss_train: 7.231919288635254\n",
      "avg_loss_val: 7.219418525695801\n",
      "Epoch: 147/1000\n"
     ]
    },
    {
     "name": "stderr",
     "output_type": "stream",
     "text": [
      "100%|██████████| 788/788 [00:03<00:00, 234.24it/s]\n"
     ]
    },
    {
     "name": "stdout",
     "output_type": "stream",
     "text": [
      "avg_loss_train: 7.237698078155518\n",
      "avg_loss_val: 7.255433559417725\n",
      "Epoch: 148/1000\n"
     ]
    },
    {
     "name": "stderr",
     "output_type": "stream",
     "text": [
      "100%|██████████| 788/788 [00:03<00:00, 240.13it/s]\n"
     ]
    },
    {
     "name": "stdout",
     "output_type": "stream",
     "text": [
      "avg_loss_train: 7.255357265472412\n",
      "avg_loss_val: 7.264097213745117\n",
      "Epoch: 149/1000\n"
     ]
    },
    {
     "name": "stderr",
     "output_type": "stream",
     "text": [
      "100%|██████████| 788/788 [00:03<00:00, 243.61it/s]\n"
     ]
    },
    {
     "name": "stdout",
     "output_type": "stream",
     "text": [
      "avg_loss_train: 7.224000930786133\n",
      "avg_loss_val: 7.22709321975708\n",
      "Epoch: 150/1000\n"
     ]
    },
    {
     "name": "stderr",
     "output_type": "stream",
     "text": [
      "100%|██████████| 788/788 [00:03<00:00, 248.59it/s]\n"
     ]
    },
    {
     "name": "stdout",
     "output_type": "stream",
     "text": [
      "avg_loss_train: 7.230929851531982\n",
      "avg_loss_val: 7.202674388885498\n",
      "Epoch: 151/1000\n"
     ]
    },
    {
     "name": "stderr",
     "output_type": "stream",
     "text": [
      "100%|██████████| 788/788 [00:03<00:00, 247.48it/s]\n"
     ]
    },
    {
     "name": "stdout",
     "output_type": "stream",
     "text": [
      "avg_loss_train: 7.230776786804199\n",
      "avg_loss_val: 7.229377746582031\n",
      "Epoch: 152/1000\n"
     ]
    },
    {
     "name": "stderr",
     "output_type": "stream",
     "text": [
      "100%|██████████| 788/788 [00:03<00:00, 238.71it/s]\n"
     ]
    },
    {
     "name": "stdout",
     "output_type": "stream",
     "text": [
      "avg_loss_train: 7.2414937019348145\n",
      "avg_loss_val: 7.271265029907227\n",
      "Epoch: 153/1000\n"
     ]
    },
    {
     "name": "stderr",
     "output_type": "stream",
     "text": [
      "100%|██████████| 788/788 [00:03<00:00, 248.83it/s]\n"
     ]
    },
    {
     "name": "stdout",
     "output_type": "stream",
     "text": [
      "avg_loss_train: 7.243581771850586\n",
      "avg_loss_val: 7.222368240356445\n",
      "Epoch: 154/1000\n"
     ]
    },
    {
     "name": "stderr",
     "output_type": "stream",
     "text": [
      "100%|██████████| 788/788 [00:03<00:00, 250.48it/s]\n"
     ]
    },
    {
     "name": "stdout",
     "output_type": "stream",
     "text": [
      "avg_loss_train: 7.219336032867432\n",
      "avg_loss_val: 7.2775983810424805\n",
      "Epoch: 155/1000\n"
     ]
    },
    {
     "name": "stderr",
     "output_type": "stream",
     "text": [
      "100%|██████████| 788/788 [00:03<00:00, 224.89it/s]\n"
     ]
    },
    {
     "name": "stdout",
     "output_type": "stream",
     "text": [
      "avg_loss_train: 7.216922760009766\n",
      "avg_loss_val: 7.239681720733643\n",
      "Epoch: 156/1000\n"
     ]
    },
    {
     "name": "stderr",
     "output_type": "stream",
     "text": [
      "100%|██████████| 788/788 [00:03<00:00, 237.92it/s]\n"
     ]
    },
    {
     "name": "stdout",
     "output_type": "stream",
     "text": [
      "avg_loss_train: 7.2356367111206055\n",
      "avg_loss_val: 7.28166389465332\n",
      "Epoch: 157/1000\n"
     ]
    },
    {
     "name": "stderr",
     "output_type": "stream",
     "text": [
      "100%|██████████| 788/788 [00:03<00:00, 233.87it/s]\n"
     ]
    },
    {
     "name": "stdout",
     "output_type": "stream",
     "text": [
      "avg_loss_train: 7.2260284423828125\n",
      "avg_loss_val: 7.218220233917236\n",
      "Epoch: 158/1000\n"
     ]
    },
    {
     "name": "stderr",
     "output_type": "stream",
     "text": [
      "100%|██████████| 788/788 [00:03<00:00, 236.98it/s]\n"
     ]
    },
    {
     "name": "stdout",
     "output_type": "stream",
     "text": [
      "avg_loss_train: 7.234623908996582\n",
      "avg_loss_val: 7.24202299118042\n",
      "Epoch: 159/1000\n"
     ]
    },
    {
     "name": "stderr",
     "output_type": "stream",
     "text": [
      "100%|██████████| 788/788 [00:03<00:00, 231.57it/s]\n"
     ]
    },
    {
     "name": "stdout",
     "output_type": "stream",
     "text": [
      "avg_loss_train: 7.229676723480225\n",
      "avg_loss_val: 7.280241012573242\n",
      "Epoch: 160/1000\n"
     ]
    },
    {
     "name": "stderr",
     "output_type": "stream",
     "text": [
      "100%|██████████| 788/788 [00:03<00:00, 247.67it/s]\n"
     ]
    },
    {
     "name": "stdout",
     "output_type": "stream",
     "text": [
      "avg_loss_train: 7.226516246795654\n",
      "avg_loss_val: 7.215224742889404\n",
      "Epoch: 161/1000\n"
     ]
    },
    {
     "name": "stderr",
     "output_type": "stream",
     "text": [
      "100%|██████████| 788/788 [00:03<00:00, 223.22it/s]\n"
     ]
    },
    {
     "name": "stdout",
     "output_type": "stream",
     "text": [
      "avg_loss_train: 7.2068328857421875\n",
      "avg_loss_val: 7.245645523071289\n",
      "Epoch: 162/1000\n"
     ]
    },
    {
     "name": "stderr",
     "output_type": "stream",
     "text": [
      "100%|██████████| 788/788 [00:03<00:00, 222.01it/s]\n"
     ]
    },
    {
     "name": "stdout",
     "output_type": "stream",
     "text": [
      "avg_loss_train: 7.223431587219238\n",
      "avg_loss_val: 7.218987941741943\n",
      "Epoch: 163/1000\n"
     ]
    },
    {
     "name": "stderr",
     "output_type": "stream",
     "text": [
      "100%|██████████| 788/788 [00:03<00:00, 242.59it/s]\n"
     ]
    },
    {
     "name": "stdout",
     "output_type": "stream",
     "text": [
      "avg_loss_train: 7.242233753204346\n",
      "avg_loss_val: 7.307583808898926\n",
      "Epoch: 164/1000\n"
     ]
    },
    {
     "name": "stderr",
     "output_type": "stream",
     "text": [
      "100%|██████████| 788/788 [00:03<00:00, 236.14it/s]\n"
     ]
    },
    {
     "name": "stdout",
     "output_type": "stream",
     "text": [
      "avg_loss_train: 7.224029541015625\n",
      "avg_loss_val: 7.229559421539307\n",
      "Epoch: 165/1000\n"
     ]
    },
    {
     "name": "stderr",
     "output_type": "stream",
     "text": [
      "100%|██████████| 788/788 [00:03<00:00, 238.61it/s]\n"
     ]
    },
    {
     "name": "stdout",
     "output_type": "stream",
     "text": [
      "avg_loss_train: 7.228494644165039\n",
      "avg_loss_val: 7.214987277984619\n",
      "Epoch: 166/1000\n"
     ]
    },
    {
     "name": "stderr",
     "output_type": "stream",
     "text": [
      "100%|██████████| 788/788 [00:03<00:00, 245.98it/s]\n"
     ]
    },
    {
     "name": "stdout",
     "output_type": "stream",
     "text": [
      "avg_loss_train: 7.229432582855225\n",
      "avg_loss_val: 7.249701976776123\n",
      "Epoch: 167/1000\n"
     ]
    },
    {
     "name": "stderr",
     "output_type": "stream",
     "text": [
      "100%|██████████| 788/788 [00:03<00:00, 239.81it/s]\n"
     ]
    },
    {
     "name": "stdout",
     "output_type": "stream",
     "text": [
      "avg_loss_train: 7.2325358390808105\n",
      "avg_loss_val: 7.329684257507324\n",
      "Epoch: 168/1000\n"
     ]
    },
    {
     "name": "stderr",
     "output_type": "stream",
     "text": [
      "100%|██████████| 788/788 [00:03<00:00, 243.55it/s]\n"
     ]
    },
    {
     "name": "stdout",
     "output_type": "stream",
     "text": [
      "avg_loss_train: 7.232181549072266\n",
      "avg_loss_val: 7.262760639190674\n",
      "Epoch: 169/1000\n"
     ]
    },
    {
     "name": "stderr",
     "output_type": "stream",
     "text": [
      "100%|██████████| 788/788 [00:03<00:00, 233.20it/s]\n"
     ]
    },
    {
     "name": "stdout",
     "output_type": "stream",
     "text": [
      "avg_loss_train: 7.250699043273926\n",
      "avg_loss_val: 7.2873640060424805\n",
      "Epoch: 170/1000\n"
     ]
    },
    {
     "name": "stderr",
     "output_type": "stream",
     "text": [
      "100%|██████████| 788/788 [00:03<00:00, 235.22it/s]\n"
     ]
    },
    {
     "name": "stdout",
     "output_type": "stream",
     "text": [
      "avg_loss_train: 7.219258785247803\n",
      "avg_loss_val: 7.227958679199219\n",
      "Epoch: 171/1000\n"
     ]
    },
    {
     "name": "stderr",
     "output_type": "stream",
     "text": [
      "100%|██████████| 788/788 [00:03<00:00, 239.11it/s]\n"
     ]
    },
    {
     "name": "stdout",
     "output_type": "stream",
     "text": [
      "avg_loss_train: 7.24249792098999\n",
      "avg_loss_val: 7.315942764282227\n",
      "Epoch: 172/1000\n"
     ]
    },
    {
     "name": "stderr",
     "output_type": "stream",
     "text": [
      "100%|██████████| 788/788 [00:03<00:00, 235.54it/s]\n"
     ]
    },
    {
     "name": "stdout",
     "output_type": "stream",
     "text": [
      "avg_loss_train: 7.237788200378418\n",
      "avg_loss_val: 7.292859077453613\n",
      "Epoch: 173/1000\n"
     ]
    },
    {
     "name": "stderr",
     "output_type": "stream",
     "text": [
      "100%|██████████| 788/788 [00:03<00:00, 237.49it/s]\n"
     ]
    },
    {
     "name": "stdout",
     "output_type": "stream",
     "text": [
      "avg_loss_train: 7.218732833862305\n",
      "avg_loss_val: 7.234119892120361\n",
      "Epoch: 174/1000\n"
     ]
    },
    {
     "name": "stderr",
     "output_type": "stream",
     "text": [
      "100%|██████████| 788/788 [00:03<00:00, 228.92it/s]\n"
     ]
    },
    {
     "name": "stdout",
     "output_type": "stream",
     "text": [
      "avg_loss_train: 7.24501371383667\n",
      "avg_loss_val: 7.234248638153076\n",
      "Epoch: 175/1000\n"
     ]
    },
    {
     "name": "stderr",
     "output_type": "stream",
     "text": [
      " 63%|██████▎   | 500/788 [00:02<00:01, 206.44it/s]\n"
     ]
    },
    {
     "ename": "KeyboardInterrupt",
     "evalue": "",
     "output_type": "error",
     "traceback": [
      "\u001b[1;31m---------------------------------------------------------------------------\u001b[0m",
      "\u001b[1;31mKeyboardInterrupt\u001b[0m                         Traceback (most recent call last)",
      "Cell \u001b[1;32mIn[21], line 3\u001b[0m\n\u001b[0;32m      1\u001b[0m \u001b[38;5;28;01mfor\u001b[39;00m epoch \u001b[38;5;129;01min\u001b[39;00m \u001b[38;5;28mrange\u001b[39m(epochs):\n\u001b[0;32m      2\u001b[0m     \u001b[38;5;28mprint\u001b[39m(\u001b[38;5;124mf\u001b[39m\u001b[38;5;124m\"\u001b[39m\u001b[38;5;124mEpoch: \u001b[39m\u001b[38;5;132;01m{\u001b[39;00mepoch\u001b[38;5;250m \u001b[39m\u001b[38;5;241m+\u001b[39m\u001b[38;5;250m \u001b[39m\u001b[38;5;241m1\u001b[39m\u001b[38;5;132;01m}\u001b[39;00m\u001b[38;5;124m/\u001b[39m\u001b[38;5;132;01m{\u001b[39;00mepochs\u001b[38;5;132;01m}\u001b[39;00m\u001b[38;5;124m\"\u001b[39m)\n\u001b[1;32m----> 3\u001b[0m     avg_loss_train \u001b[38;5;241m=\u001b[39m \u001b[43mmodel\u001b[49m\u001b[38;5;241;43m.\u001b[39;49m\u001b[43mtrain_model\u001b[49m\u001b[43m(\u001b[49m\u001b[43mtrain_loader\u001b[49m\u001b[43m)\u001b[49m\n\u001b[0;32m      4\u001b[0m     avg_loss_val \u001b[38;5;241m=\u001b[39m model\u001b[38;5;241m.\u001b[39mtest_model(val_loader)\n\u001b[0;32m      6\u001b[0m     \u001b[38;5;28mprint\u001b[39m(\u001b[38;5;124mf\u001b[39m\u001b[38;5;124m\"\u001b[39m\u001b[38;5;124mavg_loss_train: \u001b[39m\u001b[38;5;132;01m{\u001b[39;00mavg_loss_train\u001b[38;5;132;01m}\u001b[39;00m\u001b[38;5;124m\"\u001b[39m)\n",
      "Cell \u001b[1;32mIn[10], line 70\u001b[0m, in \u001b[0;36mEncoder_SLMVP.train_model\u001b[1;34m(self, data_loader)\u001b[0m\n\u001b[0;32m     67\u001b[0m     loss \u001b[38;5;241m=\u001b[39m torch\u001b[38;5;241m.\u001b[39mnorm(torch\u001b[38;5;241m.\u001b[39mmatmul(torch\u001b[38;5;241m.\u001b[39mmatmul(torch\u001b[38;5;241m.\u001b[39mt(Z), D), Z) \u001b[38;5;241m-\u001b[39m torch\u001b[38;5;241m.\u001b[39meye(Z\u001b[38;5;241m.\u001b[39msize(\u001b[38;5;241m1\u001b[39m)))\n\u001b[0;32m     68\u001b[0m     epoch_losses\u001b[38;5;241m.\u001b[39mappend(loss)\n\u001b[1;32m---> 70\u001b[0m     \u001b[43mloss\u001b[49m\u001b[38;5;241;43m.\u001b[39;49m\u001b[43mbackward\u001b[49m\u001b[43m(\u001b[49m\u001b[43m)\u001b[49m\n\u001b[0;32m     71\u001b[0m     \u001b[38;5;28mself\u001b[39m\u001b[38;5;241m.\u001b[39moptimizer\u001b[38;5;241m.\u001b[39mstep()\n\u001b[0;32m     73\u001b[0m avg_loss \u001b[38;5;241m=\u001b[39m torch\u001b[38;5;241m.\u001b[39mmean(torch\u001b[38;5;241m.\u001b[39mTensor(epoch_losses))\n",
      "File \u001b[1;32mc:\\Users\\Carlos\\anaconda3\\envs\\pytorch\\lib\\site-packages\\torch\\_tensor.py:396\u001b[0m, in \u001b[0;36mTensor.backward\u001b[1;34m(self, gradient, retain_graph, create_graph, inputs)\u001b[0m\n\u001b[0;32m    387\u001b[0m \u001b[38;5;28;01mif\u001b[39;00m has_torch_function_unary(\u001b[38;5;28mself\u001b[39m):\n\u001b[0;32m    388\u001b[0m     \u001b[38;5;28;01mreturn\u001b[39;00m handle_torch_function(\n\u001b[0;32m    389\u001b[0m         Tensor\u001b[38;5;241m.\u001b[39mbackward,\n\u001b[0;32m    390\u001b[0m         (\u001b[38;5;28mself\u001b[39m,),\n\u001b[1;32m   (...)\u001b[0m\n\u001b[0;32m    394\u001b[0m         create_graph\u001b[38;5;241m=\u001b[39mcreate_graph,\n\u001b[0;32m    395\u001b[0m         inputs\u001b[38;5;241m=\u001b[39minputs)\n\u001b[1;32m--> 396\u001b[0m \u001b[43mtorch\u001b[49m\u001b[38;5;241;43m.\u001b[39;49m\u001b[43mautograd\u001b[49m\u001b[38;5;241;43m.\u001b[39;49m\u001b[43mbackward\u001b[49m\u001b[43m(\u001b[49m\u001b[38;5;28;43mself\u001b[39;49m\u001b[43m,\u001b[49m\u001b[43m \u001b[49m\u001b[43mgradient\u001b[49m\u001b[43m,\u001b[49m\u001b[43m \u001b[49m\u001b[43mretain_graph\u001b[49m\u001b[43m,\u001b[49m\u001b[43m \u001b[49m\u001b[43mcreate_graph\u001b[49m\u001b[43m,\u001b[49m\u001b[43m \u001b[49m\u001b[43minputs\u001b[49m\u001b[38;5;241;43m=\u001b[39;49m\u001b[43minputs\u001b[49m\u001b[43m)\u001b[49m\n",
      "File \u001b[1;32mc:\\Users\\Carlos\\anaconda3\\envs\\pytorch\\lib\\site-packages\\torch\\autograd\\__init__.py:173\u001b[0m, in \u001b[0;36mbackward\u001b[1;34m(tensors, grad_tensors, retain_graph, create_graph, grad_variables, inputs)\u001b[0m\n\u001b[0;32m    168\u001b[0m     retain_graph \u001b[38;5;241m=\u001b[39m create_graph\n\u001b[0;32m    170\u001b[0m \u001b[38;5;66;03m# The reason we repeat same the comment below is that\u001b[39;00m\n\u001b[0;32m    171\u001b[0m \u001b[38;5;66;03m# some Python versions print out the first line of a multi-line function\u001b[39;00m\n\u001b[0;32m    172\u001b[0m \u001b[38;5;66;03m# calls in the traceback and some print out the last line\u001b[39;00m\n\u001b[1;32m--> 173\u001b[0m \u001b[43mVariable\u001b[49m\u001b[38;5;241;43m.\u001b[39;49m\u001b[43m_execution_engine\u001b[49m\u001b[38;5;241;43m.\u001b[39;49m\u001b[43mrun_backward\u001b[49m\u001b[43m(\u001b[49m\u001b[43m  \u001b[49m\u001b[38;5;66;43;03m# Calls into the C++ engine to run the backward pass\u001b[39;49;00m\n\u001b[0;32m    174\u001b[0m \u001b[43m    \u001b[49m\u001b[43mtensors\u001b[49m\u001b[43m,\u001b[49m\u001b[43m \u001b[49m\u001b[43mgrad_tensors_\u001b[49m\u001b[43m,\u001b[49m\u001b[43m \u001b[49m\u001b[43mretain_graph\u001b[49m\u001b[43m,\u001b[49m\u001b[43m \u001b[49m\u001b[43mcreate_graph\u001b[49m\u001b[43m,\u001b[49m\u001b[43m \u001b[49m\u001b[43minputs\u001b[49m\u001b[43m,\u001b[49m\n\u001b[0;32m    175\u001b[0m \u001b[43m    \u001b[49m\u001b[43mallow_unreachable\u001b[49m\u001b[38;5;241;43m=\u001b[39;49m\u001b[38;5;28;43;01mTrue\u001b[39;49;00m\u001b[43m,\u001b[49m\u001b[43m \u001b[49m\u001b[43maccumulate_grad\u001b[49m\u001b[38;5;241;43m=\u001b[39;49m\u001b[38;5;28;43;01mTrue\u001b[39;49;00m\u001b[43m)\u001b[49m\n",
      "\u001b[1;31mKeyboardInterrupt\u001b[0m: "
     ]
    }
   ],
   "source": [
    "for epoch in range(epochs):\n",
    "    print(f\"Epoch: {epoch + 1}/{epochs}\")\n",
    "    avg_loss_train = model.train_model(train_loader)\n",
    "    avg_loss_val = model.test_model(val_loader)\n",
    "\n",
    "    print(f\"avg_loss_train: {avg_loss_train}\")\n",
    "    print(f\"avg_loss_val: {avg_loss_val}\")"
   ]
  },
  {
   "cell_type": "code",
   "execution_count": 22,
   "metadata": {},
   "outputs": [
    {
     "data": {
      "text/plain": [
       "7.216961860656738"
      ]
     },
     "execution_count": 22,
     "metadata": {},
     "output_type": "execute_result"
    }
   ],
   "source": [
    "model.test_model(test_loader)"
   ]
  },
  {
   "cell_type": "code",
   "execution_count": 23,
   "metadata": {},
   "outputs": [],
   "source": [
    "for X, y in test_loader:\n",
    "    Z = model.encode(X)\n",
    "    break"
   ]
  },
  {
   "cell_type": "code",
   "execution_count": 24,
   "metadata": {},
   "outputs": [
    {
     "data": {
      "text/plain": [
       "tensor([[-7.1741e-03, -8.8770e-03,  9.1274e-05,  ..., -3.7526e-03,\n",
       "         -1.4313e-02, -1.3468e-02],\n",
       "        [ 1.1667e-02,  1.1655e-01, -4.0782e-03,  ..., -3.6326e-02,\n",
       "         -1.5243e-02, -2.2210e-02],\n",
       "        [ 2.0192e-03, -4.9030e-03,  8.7791e-05,  ..., -4.9374e-03,\n",
       "          5.9507e-04, -1.6853e-02],\n",
       "        ...,\n",
       "        [ 7.7304e-03, -2.8578e-02,  5.0133e-03,  ...,  8.6156e-02,\n",
       "         -4.3978e-03,  1.4429e-02],\n",
       "        [ 5.5903e-03,  2.3808e-01, -2.3548e-03,  ..., -1.5278e-02,\n",
       "          1.6067e-01, -3.4925e-02],\n",
       "        [-1.3213e-02, -1.0972e-02,  9.3293e-04,  ...,  2.4970e-02,\n",
       "         -1.0905e-02,  6.0221e-04]], grad_fn=<AddmmBackward0>)"
      ]
     },
     "execution_count": 24,
     "metadata": {},
     "output_type": "execute_result"
    }
   ],
   "source": [
    "Z"
   ]
  },
  {
   "cell_type": "code",
   "execution_count": null,
   "metadata": {},
   "outputs": [],
   "source": []
  },
  {
   "cell_type": "code",
   "execution_count": 27,
   "metadata": {},
   "outputs": [
    {
     "data": {
      "text/plain": [
       "tensor([[ 1.5503e-02,  5.1791e-02, -6.5794e-04,  ..., -1.9561e-04,\n",
       "         -1.5435e-02, -2.6198e-04],\n",
       "        [ 5.1791e-02,  7.7149e-01, -5.1065e-03,  ...,  2.2171e-04,\n",
       "          1.4602e-01, -7.0928e-02],\n",
       "        [-6.5794e-04, -5.1065e-03,  3.9073e-03,  ...,  5.2087e-03,\n",
       "         -1.6297e-02,  1.8563e-03],\n",
       "        ...,\n",
       "        [-1.9561e-04,  2.2172e-04,  5.2087e-03,  ...,  2.1537e-01,\n",
       "         -2.8651e-02,  1.7989e-02],\n",
       "        [-1.5435e-02,  1.4602e-01, -1.6297e-02,  ..., -2.8651e-02,\n",
       "          6.5723e-01, -4.9386e-02],\n",
       "        [-2.6198e-04, -7.0928e-02,  1.8563e-03,  ...,  1.7989e-02,\n",
       "         -4.9386e-02,  4.4094e-02]], grad_fn=<MmBackward0>)"
      ]
     },
     "execution_count": 27,
     "metadata": {},
     "output_type": "execute_result"
    }
   ],
   "source": [
    "K_X = kernel(X, **kernel_param_X)\n",
    "K_Y = binary_distance(y.unsqueeze(1), y.unsqueeze(1))\n",
    "\n",
    "K_XY = K_X * K_Y\n",
    "D = torch.diag(torch.sum(K_XY, dim = 1))\n",
    "torch.matmul(torch.matmul(torch.t(Z), D), Z)"
   ]
  }
 ],
 "metadata": {
  "kernelspec": {
   "display_name": "pytorch",
   "language": "python",
   "name": "python3"
  },
  "language_info": {
   "codemirror_mode": {
    "name": "ipython",
    "version": 3
   },
   "file_extension": ".py",
   "mimetype": "text/x-python",
   "name": "python",
   "nbconvert_exporter": "python",
   "pygments_lexer": "ipython3",
   "version": "3.8.18"
  }
 },
 "nbformat": 4,
 "nbformat_minor": 2
}
